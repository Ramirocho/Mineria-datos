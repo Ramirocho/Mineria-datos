{
 "cells": [
  {
   "cell_type": "markdown",
   "metadata": {},
   "source": [
    "#  Prueba 3: Análisis CASO: CENSO EE. UU. 1994"
   ]
  },
  {
   "cell_type": "markdown",
   "metadata": {},
   "source": [
    "## Importaremos las librerias y los dataset"
   ]
  },
  {
   "cell_type": "markdown",
   "metadata": {},
   "source": [
    "# Librerias"
   ]
  },
  {
   "cell_type": "code",
   "execution_count": 256,
   "metadata": {},
   "outputs": [],
   "source": [
    "import numpy as np\n",
    "import pandas as pd\n",
    "import matplotlib.pyplot as plt\n",
    "import seaborn as sns\n",
    "%matplotlib inline\n",
    "sns.set_style('whitegrid')\n",
    "from sklearn.model_selection import train_test_split\n",
    "from sklearn.preprocessing import LabelEncoder\n",
    "from sklearn.linear_model import LogisticRegression\n",
    "from sklearn.ensemble import RandomForestClassifier\n",
    "from sklearn.neighbors import KNeighborsClassifier\n",
    "from sklearn.tree import DecisionTreeClassifier\n",
    "from sklearn.preprocessing import MinMaxScaler\n",
    "from sklearn.metrics import roc_auc_score\n",
    "from sklearn.metrics import classification_report\n",
    "from sklearn.preprocessing import StandardScaler\n",
    "\n",
    "import warnings\n",
    "warnings.filterwarnings('ignore')"
   ]
  },
  {
   "cell_type": "markdown",
   "metadata": {},
   "source": [
    "# Importamos los datasets"
   ]
  },
  {
   "cell_type": "code",
   "execution_count": 206,
   "metadata": {},
   "outputs": [],
   "source": [
    "ruta=\"D:/DataSet/\"\n",
    "df_train = pd.read_csv(ruta+\"Sueldo_Train.csv\")\n",
    "df_test=pd.read_csv(ruta+\"Sueldo_Test.csv\")"
   ]
  },
  {
   "cell_type": "markdown",
   "metadata": {},
   "source": [
    "###  Verificamos que se cargaron correctamente los datos"
   ]
  },
  {
   "cell_type": "code",
   "execution_count": 6,
   "metadata": {},
   "outputs": [
    {
     "data": {
      "text/html": [
       "<div>\n",
       "<style scoped>\n",
       "    .dataframe tbody tr th:only-of-type {\n",
       "        vertical-align: middle;\n",
       "    }\n",
       "\n",
       "    .dataframe tbody tr th {\n",
       "        vertical-align: top;\n",
       "    }\n",
       "\n",
       "    .dataframe thead th {\n",
       "        text-align: right;\n",
       "    }\n",
       "</style>\n",
       "<table border=\"1\" class=\"dataframe\">\n",
       "  <thead>\n",
       "    <tr style=\"text-align: right;\">\n",
       "      <th></th>\n",
       "      <th>Id</th>\n",
       "      <th>edad</th>\n",
       "      <th>clase de trabajo</th>\n",
       "      <th>fnlwgt</th>\n",
       "      <th>educación</th>\n",
       "      <th>educación-num</th>\n",
       "      <th>estado civil</th>\n",
       "      <th>Ocupación</th>\n",
       "      <th>relación</th>\n",
       "      <th>raza</th>\n",
       "      <th>Sexo</th>\n",
       "      <th>ganancia de capital</th>\n",
       "      <th>pérdida de capital</th>\n",
       "      <th>horas por semana</th>\n",
       "      <th>país de origen</th>\n",
       "      <th>Sueldo</th>\n",
       "    </tr>\n",
       "  </thead>\n",
       "  <tbody>\n",
       "    <tr>\n",
       "      <th>0</th>\n",
       "      <td>1</td>\n",
       "      <td>39</td>\n",
       "      <td>State-gov</td>\n",
       "      <td>77516</td>\n",
       "      <td>Bachelors</td>\n",
       "      <td>13</td>\n",
       "      <td>Never-married</td>\n",
       "      <td>Adm-clerical</td>\n",
       "      <td>Not-in-family</td>\n",
       "      <td>White</td>\n",
       "      <td>Male</td>\n",
       "      <td>2174</td>\n",
       "      <td>0</td>\n",
       "      <td>40</td>\n",
       "      <td>United-States</td>\n",
       "      <td>&lt;=50K</td>\n",
       "    </tr>\n",
       "    <tr>\n",
       "      <th>1</th>\n",
       "      <td>2</td>\n",
       "      <td>50</td>\n",
       "      <td>Self-emp-not-inc</td>\n",
       "      <td>83311</td>\n",
       "      <td>Bachelors</td>\n",
       "      <td>13</td>\n",
       "      <td>Married-civ-spouse</td>\n",
       "      <td>Exec-managerial</td>\n",
       "      <td>Husband</td>\n",
       "      <td>White</td>\n",
       "      <td>Male</td>\n",
       "      <td>0</td>\n",
       "      <td>0</td>\n",
       "      <td>13</td>\n",
       "      <td>United-States</td>\n",
       "      <td>&lt;=50K</td>\n",
       "    </tr>\n",
       "    <tr>\n",
       "      <th>2</th>\n",
       "      <td>3</td>\n",
       "      <td>38</td>\n",
       "      <td>Private</td>\n",
       "      <td>215646</td>\n",
       "      <td>HS-grad</td>\n",
       "      <td>9</td>\n",
       "      <td>Divorced</td>\n",
       "      <td>Handlers-cleaners</td>\n",
       "      <td>Not-in-family</td>\n",
       "      <td>White</td>\n",
       "      <td>Male</td>\n",
       "      <td>0</td>\n",
       "      <td>0</td>\n",
       "      <td>40</td>\n",
       "      <td>United-States</td>\n",
       "      <td>&lt;=50K</td>\n",
       "    </tr>\n",
       "    <tr>\n",
       "      <th>3</th>\n",
       "      <td>4</td>\n",
       "      <td>53</td>\n",
       "      <td>Private</td>\n",
       "      <td>234721</td>\n",
       "      <td>11th</td>\n",
       "      <td>7</td>\n",
       "      <td>Married-civ-spouse</td>\n",
       "      <td>Handlers-cleaners</td>\n",
       "      <td>Husband</td>\n",
       "      <td>Black</td>\n",
       "      <td>Male</td>\n",
       "      <td>0</td>\n",
       "      <td>0</td>\n",
       "      <td>40</td>\n",
       "      <td>United-States</td>\n",
       "      <td>&lt;=50K</td>\n",
       "    </tr>\n",
       "    <tr>\n",
       "      <th>4</th>\n",
       "      <td>5</td>\n",
       "      <td>28</td>\n",
       "      <td>Private</td>\n",
       "      <td>338409</td>\n",
       "      <td>Bachelors</td>\n",
       "      <td>13</td>\n",
       "      <td>Married-civ-spouse</td>\n",
       "      <td>Prof-specialty</td>\n",
       "      <td>Wife</td>\n",
       "      <td>Black</td>\n",
       "      <td>Female</td>\n",
       "      <td>0</td>\n",
       "      <td>0</td>\n",
       "      <td>40</td>\n",
       "      <td>Cuba</td>\n",
       "      <td>&lt;=50K</td>\n",
       "    </tr>\n",
       "  </tbody>\n",
       "</table>\n",
       "</div>"
      ],
      "text/plain": [
       "   Id  edad   clase de trabajo  fnlwgt   educación  educación-num  \\\n",
       "0   1    39          State-gov   77516   Bachelors             13   \n",
       "1   2    50   Self-emp-not-inc   83311   Bachelors             13   \n",
       "2   3    38            Private  215646     HS-grad              9   \n",
       "3   4    53            Private  234721        11th              7   \n",
       "4   5    28            Private  338409   Bachelors             13   \n",
       "\n",
       "          estado civil           Ocupación        relación    raza     Sexo  \\\n",
       "0        Never-married        Adm-clerical   Not-in-family   White     Male   \n",
       "1   Married-civ-spouse     Exec-managerial         Husband   White     Male   \n",
       "2             Divorced   Handlers-cleaners   Not-in-family   White     Male   \n",
       "3   Married-civ-spouse   Handlers-cleaners         Husband   Black     Male   \n",
       "4   Married-civ-spouse      Prof-specialty            Wife   Black   Female   \n",
       "\n",
       "   ganancia de capital  pérdida de capital  horas por semana  país de origen  \\\n",
       "0                 2174                   0                40   United-States   \n",
       "1                    0                   0                13   United-States   \n",
       "2                    0                   0                40   United-States   \n",
       "3                    0                   0                40   United-States   \n",
       "4                    0                   0                40            Cuba   \n",
       "\n",
       "   Sueldo  \n",
       "0   <=50K  \n",
       "1   <=50K  \n",
       "2   <=50K  \n",
       "3   <=50K  \n",
       "4   <=50K  "
      ]
     },
     "execution_count": 6,
     "metadata": {},
     "output_type": "execute_result"
    }
   ],
   "source": [
    "df_train.head()"
   ]
  },
  {
   "cell_type": "code",
   "execution_count": 7,
   "metadata": {},
   "outputs": [
    {
     "data": {
      "text/html": [
       "<div>\n",
       "<style scoped>\n",
       "    .dataframe tbody tr th:only-of-type {\n",
       "        vertical-align: middle;\n",
       "    }\n",
       "\n",
       "    .dataframe tbody tr th {\n",
       "        vertical-align: top;\n",
       "    }\n",
       "\n",
       "    .dataframe thead th {\n",
       "        text-align: right;\n",
       "    }\n",
       "</style>\n",
       "<table border=\"1\" class=\"dataframe\">\n",
       "  <thead>\n",
       "    <tr style=\"text-align: right;\">\n",
       "      <th></th>\n",
       "      <th>Id</th>\n",
       "      <th>edad</th>\n",
       "      <th>clase de trabajo</th>\n",
       "      <th>fnlwgt</th>\n",
       "      <th>educación</th>\n",
       "      <th>educación-num</th>\n",
       "      <th>estado civil</th>\n",
       "      <th>Ocupación</th>\n",
       "      <th>relación</th>\n",
       "      <th>raza</th>\n",
       "      <th>Sexo</th>\n",
       "      <th>ganancia de capital</th>\n",
       "      <th>pérdida de capital</th>\n",
       "      <th>horas por semana</th>\n",
       "      <th>país de origen</th>\n",
       "    </tr>\n",
       "  </thead>\n",
       "  <tbody>\n",
       "    <tr>\n",
       "      <th>0</th>\n",
       "      <td>32562</td>\n",
       "      <td>25</td>\n",
       "      <td>Private</td>\n",
       "      <td>226802</td>\n",
       "      <td>11th</td>\n",
       "      <td>7</td>\n",
       "      <td>Never-married</td>\n",
       "      <td>Machine-op-inspct</td>\n",
       "      <td>Own-child</td>\n",
       "      <td>Black</td>\n",
       "      <td>Male</td>\n",
       "      <td>0</td>\n",
       "      <td>0</td>\n",
       "      <td>40</td>\n",
       "      <td>United-States</td>\n",
       "    </tr>\n",
       "    <tr>\n",
       "      <th>1</th>\n",
       "      <td>32563</td>\n",
       "      <td>38</td>\n",
       "      <td>Private</td>\n",
       "      <td>89814</td>\n",
       "      <td>HS-grad</td>\n",
       "      <td>9</td>\n",
       "      <td>Married-civ-spouse</td>\n",
       "      <td>Farming-fishing</td>\n",
       "      <td>Husband</td>\n",
       "      <td>White</td>\n",
       "      <td>Male</td>\n",
       "      <td>0</td>\n",
       "      <td>0</td>\n",
       "      <td>50</td>\n",
       "      <td>United-States</td>\n",
       "    </tr>\n",
       "    <tr>\n",
       "      <th>2</th>\n",
       "      <td>32564</td>\n",
       "      <td>28</td>\n",
       "      <td>Local-gov</td>\n",
       "      <td>336951</td>\n",
       "      <td>Assoc-acdm</td>\n",
       "      <td>12</td>\n",
       "      <td>Married-civ-spouse</td>\n",
       "      <td>Protective-serv</td>\n",
       "      <td>Husband</td>\n",
       "      <td>White</td>\n",
       "      <td>Male</td>\n",
       "      <td>0</td>\n",
       "      <td>0</td>\n",
       "      <td>40</td>\n",
       "      <td>United-States</td>\n",
       "    </tr>\n",
       "    <tr>\n",
       "      <th>3</th>\n",
       "      <td>32565</td>\n",
       "      <td>44</td>\n",
       "      <td>Private</td>\n",
       "      <td>160323</td>\n",
       "      <td>Some-college</td>\n",
       "      <td>10</td>\n",
       "      <td>Married-civ-spouse</td>\n",
       "      <td>Machine-op-inspct</td>\n",
       "      <td>Husband</td>\n",
       "      <td>Black</td>\n",
       "      <td>Male</td>\n",
       "      <td>7688</td>\n",
       "      <td>0</td>\n",
       "      <td>40</td>\n",
       "      <td>United-States</td>\n",
       "    </tr>\n",
       "    <tr>\n",
       "      <th>4</th>\n",
       "      <td>32566</td>\n",
       "      <td>18</td>\n",
       "      <td>?</td>\n",
       "      <td>103497</td>\n",
       "      <td>Some-college</td>\n",
       "      <td>10</td>\n",
       "      <td>Never-married</td>\n",
       "      <td>?</td>\n",
       "      <td>Own-child</td>\n",
       "      <td>White</td>\n",
       "      <td>Female</td>\n",
       "      <td>0</td>\n",
       "      <td>0</td>\n",
       "      <td>30</td>\n",
       "      <td>United-States</td>\n",
       "    </tr>\n",
       "  </tbody>\n",
       "</table>\n",
       "</div>"
      ],
      "text/plain": [
       "      Id  edad clase de trabajo  fnlwgt      educación  educación-num  \\\n",
       "0  32562    25          Private  226802           11th              7   \n",
       "1  32563    38          Private   89814        HS-grad              9   \n",
       "2  32564    28        Local-gov  336951     Assoc-acdm             12   \n",
       "3  32565    44          Private  160323   Some-college             10   \n",
       "4  32566    18                ?  103497   Some-college             10   \n",
       "\n",
       "          estado civil           Ocupación    relación    raza     Sexo  \\\n",
       "0        Never-married   Machine-op-inspct   Own-child   Black     Male   \n",
       "1   Married-civ-spouse     Farming-fishing     Husband   White     Male   \n",
       "2   Married-civ-spouse     Protective-serv     Husband   White     Male   \n",
       "3   Married-civ-spouse   Machine-op-inspct     Husband   Black     Male   \n",
       "4        Never-married                   ?   Own-child   White   Female   \n",
       "\n",
       "   ganancia de capital  pérdida de capital  horas por semana  país de origen  \n",
       "0                    0                   0                40   United-States  \n",
       "1                    0                   0                50   United-States  \n",
       "2                    0                   0                40   United-States  \n",
       "3                 7688                   0                40   United-States  \n",
       "4                    0                   0                30   United-States  "
      ]
     },
     "execution_count": 7,
     "metadata": {},
     "output_type": "execute_result"
    }
   ],
   "source": [
    "df_test.head()"
   ]
  },
  {
   "cell_type": "markdown",
   "metadata": {},
   "source": [
    "#  Analizaremos los datos EDA"
   ]
  },
  {
   "cell_type": "markdown",
   "metadata": {},
   "source": [
    "### Revisaremos las dimensiones de los datos"
   ]
  },
  {
   "cell_type": "code",
   "execution_count": 9,
   "metadata": {},
   "outputs": [
    {
     "data": {
      "text/plain": [
       "(32561, 16)"
      ]
     },
     "execution_count": 9,
     "metadata": {},
     "output_type": "execute_result"
    }
   ],
   "source": [
    "df_train.shape"
   ]
  },
  {
   "cell_type": "markdown",
   "metadata": {},
   "source": [
    "* Los datos de entrenamiento son 32561 en 16 columnas"
   ]
  },
  {
   "cell_type": "code",
   "execution_count": 10,
   "metadata": {},
   "outputs": [
    {
     "data": {
      "text/plain": [
       "(16281, 15)"
      ]
     },
     "execution_count": 10,
     "metadata": {},
     "output_type": "execute_result"
    }
   ],
   "source": [
    "df_test.shape"
   ]
  },
  {
   "cell_type": "markdown",
   "metadata": {},
   "source": [
    "* Los datos de test son 16281 en 15 columnas"
   ]
  },
  {
   "cell_type": "markdown",
   "metadata": {},
   "source": [
    "## Revisaremos los tipos de datos "
   ]
  },
  {
   "cell_type": "code",
   "execution_count": 11,
   "metadata": {},
   "outputs": [
    {
     "data": {
      "text/plain": [
       "Id                      int64\n",
       "edad                    int64\n",
       "clase de trabajo       object\n",
       "fnlwgt                  int64\n",
       "educación              object\n",
       "educación-num           int64\n",
       "estado civil           object\n",
       "Ocupación              object\n",
       "relación               object\n",
       "raza                   object\n",
       "Sexo                   object\n",
       "ganancia de capital     int64\n",
       "pérdida de capital      int64\n",
       "horas por semana        int64\n",
       "país de origen         object\n",
       "Sueldo                 object\n",
       "dtype: object"
      ]
     },
     "execution_count": 11,
     "metadata": {},
     "output_type": "execute_result"
    }
   ],
   "source": [
    "df_train.dtypes"
   ]
  },
  {
   "cell_type": "code",
   "execution_count": 12,
   "metadata": {},
   "outputs": [
    {
     "data": {
      "text/plain": [
       "Id                      int64\n",
       "edad                    int64\n",
       "clase de trabajo       object\n",
       "fnlwgt                  int64\n",
       "educación              object\n",
       "educación-num           int64\n",
       "estado civil           object\n",
       "Ocupación              object\n",
       "relación               object\n",
       "raza                   object\n",
       "Sexo                   object\n",
       "ganancia de capital     int64\n",
       "pérdida de capital      int64\n",
       "horas por semana        int64\n",
       "país de origen         object\n",
       "dtype: object"
      ]
     },
     "execution_count": 12,
     "metadata": {},
     "output_type": "execute_result"
    }
   ],
   "source": [
    "df_test.dtypes"
   ]
  },
  {
   "cell_type": "markdown",
   "metadata": {},
   "source": [
    "### Revisaremos los datos nulos"
   ]
  },
  {
   "cell_type": "code",
   "execution_count": 13,
   "metadata": {},
   "outputs": [
    {
     "data": {
      "text/plain": [
       "Id                      0\n",
       "edad                    0\n",
       "clase de trabajo        0\n",
       "fnlwgt                  0\n",
       "educación               0\n",
       "educación-num           0\n",
       "estado civil            0\n",
       "Ocupación               0\n",
       "relación                0\n",
       "raza                    0\n",
       "Sexo                   21\n",
       "ganancia de capital     0\n",
       "pérdida de capital      0\n",
       "horas por semana        0\n",
       "país de origen          0\n",
       "Sueldo                  0\n",
       "dtype: int64"
      ]
     },
     "execution_count": 13,
     "metadata": {},
     "output_type": "execute_result"
    }
   ],
   "source": [
    "df_train.isnull().sum()"
   ]
  },
  {
   "cell_type": "markdown",
   "metadata": {},
   "source": [
    "### Como visualizamos el sexo contiene datos nulos"
   ]
  },
  {
   "cell_type": "code",
   "execution_count": 14,
   "metadata": {},
   "outputs": [
    {
     "data": {
      "text/plain": [
       "Id                     0\n",
       "edad                   0\n",
       "clase de trabajo       0\n",
       "fnlwgt                 0\n",
       "educación              0\n",
       "educación-num          0\n",
       "estado civil           0\n",
       "Ocupación              0\n",
       "relación               0\n",
       "raza                   0\n",
       "Sexo                   0\n",
       "ganancia de capital    0\n",
       "pérdida de capital     0\n",
       "horas por semana       0\n",
       "país de origen         0\n",
       "dtype: int64"
      ]
     },
     "execution_count": 14,
     "metadata": {},
     "output_type": "execute_result"
    }
   ],
   "source": [
    "df_test.isnull().sum()"
   ]
  },
  {
   "cell_type": "markdown",
   "metadata": {},
   "source": [
    "## Revisaremos los datos estadisticos generales"
   ]
  },
  {
   "cell_type": "code",
   "execution_count": 15,
   "metadata": {},
   "outputs": [
    {
     "data": {
      "text/html": [
       "<div>\n",
       "<style scoped>\n",
       "    .dataframe tbody tr th:only-of-type {\n",
       "        vertical-align: middle;\n",
       "    }\n",
       "\n",
       "    .dataframe tbody tr th {\n",
       "        vertical-align: top;\n",
       "    }\n",
       "\n",
       "    .dataframe thead th {\n",
       "        text-align: right;\n",
       "    }\n",
       "</style>\n",
       "<table border=\"1\" class=\"dataframe\">\n",
       "  <thead>\n",
       "    <tr style=\"text-align: right;\">\n",
       "      <th></th>\n",
       "      <th>Id</th>\n",
       "      <th>edad</th>\n",
       "      <th>fnlwgt</th>\n",
       "      <th>educación-num</th>\n",
       "      <th>ganancia de capital</th>\n",
       "      <th>pérdida de capital</th>\n",
       "      <th>horas por semana</th>\n",
       "    </tr>\n",
       "  </thead>\n",
       "  <tbody>\n",
       "    <tr>\n",
       "      <th>count</th>\n",
       "      <td>32561.000000</td>\n",
       "      <td>32561.000000</td>\n",
       "      <td>3.256100e+04</td>\n",
       "      <td>32561.000000</td>\n",
       "      <td>32561.000000</td>\n",
       "      <td>32561.000000</td>\n",
       "      <td>32561.000000</td>\n",
       "    </tr>\n",
       "    <tr>\n",
       "      <th>mean</th>\n",
       "      <td>16281.000000</td>\n",
       "      <td>38.581647</td>\n",
       "      <td>1.897784e+05</td>\n",
       "      <td>10.080679</td>\n",
       "      <td>1077.648844</td>\n",
       "      <td>87.303830</td>\n",
       "      <td>40.437456</td>\n",
       "    </tr>\n",
       "    <tr>\n",
       "      <th>std</th>\n",
       "      <td>9399.695394</td>\n",
       "      <td>13.640433</td>\n",
       "      <td>1.055500e+05</td>\n",
       "      <td>2.572720</td>\n",
       "      <td>7385.292085</td>\n",
       "      <td>402.960219</td>\n",
       "      <td>12.347429</td>\n",
       "    </tr>\n",
       "    <tr>\n",
       "      <th>min</th>\n",
       "      <td>1.000000</td>\n",
       "      <td>17.000000</td>\n",
       "      <td>1.228500e+04</td>\n",
       "      <td>1.000000</td>\n",
       "      <td>0.000000</td>\n",
       "      <td>0.000000</td>\n",
       "      <td>1.000000</td>\n",
       "    </tr>\n",
       "    <tr>\n",
       "      <th>25%</th>\n",
       "      <td>8141.000000</td>\n",
       "      <td>28.000000</td>\n",
       "      <td>1.178270e+05</td>\n",
       "      <td>9.000000</td>\n",
       "      <td>0.000000</td>\n",
       "      <td>0.000000</td>\n",
       "      <td>40.000000</td>\n",
       "    </tr>\n",
       "    <tr>\n",
       "      <th>50%</th>\n",
       "      <td>16281.000000</td>\n",
       "      <td>37.000000</td>\n",
       "      <td>1.783560e+05</td>\n",
       "      <td>10.000000</td>\n",
       "      <td>0.000000</td>\n",
       "      <td>0.000000</td>\n",
       "      <td>40.000000</td>\n",
       "    </tr>\n",
       "    <tr>\n",
       "      <th>75%</th>\n",
       "      <td>24421.000000</td>\n",
       "      <td>48.000000</td>\n",
       "      <td>2.370510e+05</td>\n",
       "      <td>12.000000</td>\n",
       "      <td>0.000000</td>\n",
       "      <td>0.000000</td>\n",
       "      <td>45.000000</td>\n",
       "    </tr>\n",
       "    <tr>\n",
       "      <th>max</th>\n",
       "      <td>32561.000000</td>\n",
       "      <td>90.000000</td>\n",
       "      <td>1.484705e+06</td>\n",
       "      <td>16.000000</td>\n",
       "      <td>99999.000000</td>\n",
       "      <td>4356.000000</td>\n",
       "      <td>99.000000</td>\n",
       "    </tr>\n",
       "  </tbody>\n",
       "</table>\n",
       "</div>"
      ],
      "text/plain": [
       "                 Id          edad        fnlwgt  educación-num  \\\n",
       "count  32561.000000  32561.000000  3.256100e+04   32561.000000   \n",
       "mean   16281.000000     38.581647  1.897784e+05      10.080679   \n",
       "std     9399.695394     13.640433  1.055500e+05       2.572720   \n",
       "min        1.000000     17.000000  1.228500e+04       1.000000   \n",
       "25%     8141.000000     28.000000  1.178270e+05       9.000000   \n",
       "50%    16281.000000     37.000000  1.783560e+05      10.000000   \n",
       "75%    24421.000000     48.000000  2.370510e+05      12.000000   \n",
       "max    32561.000000     90.000000  1.484705e+06      16.000000   \n",
       "\n",
       "       ganancia de capital  pérdida de capital  horas por semana  \n",
       "count         32561.000000        32561.000000      32561.000000  \n",
       "mean           1077.648844           87.303830         40.437456  \n",
       "std            7385.292085          402.960219         12.347429  \n",
       "min               0.000000            0.000000          1.000000  \n",
       "25%               0.000000            0.000000         40.000000  \n",
       "50%               0.000000            0.000000         40.000000  \n",
       "75%               0.000000            0.000000         45.000000  \n",
       "max           99999.000000         4356.000000         99.000000  "
      ]
     },
     "execution_count": 15,
     "metadata": {},
     "output_type": "execute_result"
    }
   ],
   "source": [
    "df_train.describe()"
   ]
  },
  {
   "cell_type": "code",
   "execution_count": 16,
   "metadata": {},
   "outputs": [
    {
     "data": {
      "text/html": [
       "<div>\n",
       "<style scoped>\n",
       "    .dataframe tbody tr th:only-of-type {\n",
       "        vertical-align: middle;\n",
       "    }\n",
       "\n",
       "    .dataframe tbody tr th {\n",
       "        vertical-align: top;\n",
       "    }\n",
       "\n",
       "    .dataframe thead th {\n",
       "        text-align: right;\n",
       "    }\n",
       "</style>\n",
       "<table border=\"1\" class=\"dataframe\">\n",
       "  <thead>\n",
       "    <tr style=\"text-align: right;\">\n",
       "      <th></th>\n",
       "      <th>Id</th>\n",
       "      <th>edad</th>\n",
       "      <th>fnlwgt</th>\n",
       "      <th>educación-num</th>\n",
       "      <th>ganancia de capital</th>\n",
       "      <th>pérdida de capital</th>\n",
       "      <th>horas por semana</th>\n",
       "    </tr>\n",
       "  </thead>\n",
       "  <tbody>\n",
       "    <tr>\n",
       "      <th>count</th>\n",
       "      <td>16281.000000</td>\n",
       "      <td>16281.000000</td>\n",
       "      <td>1.628100e+04</td>\n",
       "      <td>16281.000000</td>\n",
       "      <td>16281.000000</td>\n",
       "      <td>16281.000000</td>\n",
       "      <td>16281.000000</td>\n",
       "    </tr>\n",
       "    <tr>\n",
       "      <th>mean</th>\n",
       "      <td>40702.000000</td>\n",
       "      <td>38.767459</td>\n",
       "      <td>1.894357e+05</td>\n",
       "      <td>10.072907</td>\n",
       "      <td>1081.905104</td>\n",
       "      <td>87.899269</td>\n",
       "      <td>40.392236</td>\n",
       "    </tr>\n",
       "    <tr>\n",
       "      <th>std</th>\n",
       "      <td>4700.064202</td>\n",
       "      <td>13.849187</td>\n",
       "      <td>1.057149e+05</td>\n",
       "      <td>2.567545</td>\n",
       "      <td>7583.935968</td>\n",
       "      <td>403.105286</td>\n",
       "      <td>12.479332</td>\n",
       "    </tr>\n",
       "    <tr>\n",
       "      <th>min</th>\n",
       "      <td>32562.000000</td>\n",
       "      <td>17.000000</td>\n",
       "      <td>1.349200e+04</td>\n",
       "      <td>1.000000</td>\n",
       "      <td>0.000000</td>\n",
       "      <td>0.000000</td>\n",
       "      <td>1.000000</td>\n",
       "    </tr>\n",
       "    <tr>\n",
       "      <th>25%</th>\n",
       "      <td>36632.000000</td>\n",
       "      <td>28.000000</td>\n",
       "      <td>1.167360e+05</td>\n",
       "      <td>9.000000</td>\n",
       "      <td>0.000000</td>\n",
       "      <td>0.000000</td>\n",
       "      <td>40.000000</td>\n",
       "    </tr>\n",
       "    <tr>\n",
       "      <th>50%</th>\n",
       "      <td>40702.000000</td>\n",
       "      <td>37.000000</td>\n",
       "      <td>1.778310e+05</td>\n",
       "      <td>10.000000</td>\n",
       "      <td>0.000000</td>\n",
       "      <td>0.000000</td>\n",
       "      <td>40.000000</td>\n",
       "    </tr>\n",
       "    <tr>\n",
       "      <th>75%</th>\n",
       "      <td>44772.000000</td>\n",
       "      <td>48.000000</td>\n",
       "      <td>2.383840e+05</td>\n",
       "      <td>12.000000</td>\n",
       "      <td>0.000000</td>\n",
       "      <td>0.000000</td>\n",
       "      <td>45.000000</td>\n",
       "    </tr>\n",
       "    <tr>\n",
       "      <th>max</th>\n",
       "      <td>48842.000000</td>\n",
       "      <td>90.000000</td>\n",
       "      <td>1.490400e+06</td>\n",
       "      <td>16.000000</td>\n",
       "      <td>99999.000000</td>\n",
       "      <td>3770.000000</td>\n",
       "      <td>99.000000</td>\n",
       "    </tr>\n",
       "  </tbody>\n",
       "</table>\n",
       "</div>"
      ],
      "text/plain": [
       "                 Id          edad        fnlwgt  educación-num  \\\n",
       "count  16281.000000  16281.000000  1.628100e+04   16281.000000   \n",
       "mean   40702.000000     38.767459  1.894357e+05      10.072907   \n",
       "std     4700.064202     13.849187  1.057149e+05       2.567545   \n",
       "min    32562.000000     17.000000  1.349200e+04       1.000000   \n",
       "25%    36632.000000     28.000000  1.167360e+05       9.000000   \n",
       "50%    40702.000000     37.000000  1.778310e+05      10.000000   \n",
       "75%    44772.000000     48.000000  2.383840e+05      12.000000   \n",
       "max    48842.000000     90.000000  1.490400e+06      16.000000   \n",
       "\n",
       "       ganancia de capital  pérdida de capital  horas por semana  \n",
       "count         16281.000000        16281.000000      16281.000000  \n",
       "mean           1081.905104           87.899269         40.392236  \n",
       "std            7583.935968          403.105286         12.479332  \n",
       "min               0.000000            0.000000          1.000000  \n",
       "25%               0.000000            0.000000         40.000000  \n",
       "50%               0.000000            0.000000         40.000000  \n",
       "75%               0.000000            0.000000         45.000000  \n",
       "max           99999.000000         3770.000000         99.000000  "
      ]
     },
     "execution_count": 16,
     "metadata": {},
     "output_type": "execute_result"
    }
   ],
   "source": [
    "df_test.describe()"
   ]
  },
  {
   "cell_type": "markdown",
   "metadata": {},
   "source": [
    "## Visualizaremos como arreglo las columnas"
   ]
  },
  {
   "cell_type": "code",
   "execution_count": 17,
   "metadata": {},
   "outputs": [
    {
     "data": {
      "text/plain": [
       "array(['Id', 'edad', 'clase de trabajo', 'fnlwgt', 'educación',\n",
       "       'educación-num', 'estado civil', 'Ocupación', 'relación', 'raza',\n",
       "       'Sexo', 'ganancia de capital', 'pérdida de capital',\n",
       "       'horas por semana', 'país de origen', 'Sueldo'], dtype=object)"
      ]
     },
     "execution_count": 17,
     "metadata": {},
     "output_type": "execute_result"
    }
   ],
   "source": [
    "df_train.columns.values"
   ]
  },
  {
   "cell_type": "code",
   "execution_count": 18,
   "metadata": {},
   "outputs": [
    {
     "data": {
      "text/plain": [
       "array(['Id', 'edad', 'clase de trabajo', 'fnlwgt', 'educación',\n",
       "       'educación-num', 'estado civil', 'Ocupación', 'relación', 'raza',\n",
       "       'Sexo', 'ganancia de capital', 'pérdida de capital',\n",
       "       'horas por semana', 'país de origen'], dtype=object)"
      ]
     },
     "execution_count": 18,
     "metadata": {},
     "output_type": "execute_result"
    }
   ],
   "source": [
    "df_test.columns.values"
   ]
  },
  {
   "cell_type": "markdown",
   "metadata": {},
   "source": [
    "# La variable objetivo a Categorizar es Sueldo "
   ]
  },
  {
   "cell_type": "markdown",
   "metadata": {},
   "source": [
    "###  Visualizaremos la variable objetivo"
   ]
  },
  {
   "cell_type": "code",
   "execution_count": 21,
   "metadata": {},
   "outputs": [
    {
     "data": {
      "text/plain": [
       " <=50K    24720\n",
       " >50K      7841\n",
       "Name: Sueldo, dtype: int64"
      ]
     },
     "execution_count": 21,
     "metadata": {},
     "output_type": "execute_result"
    }
   ],
   "source": [
    "#Comprobación de desequilibrio de clase Suledo\n",
    "df_train['Sueldo'].value_counts()"
   ]
  },
  {
   "cell_type": "markdown",
   "metadata": {},
   "source": [
    "## Vemos que en este análisis las personas en una amplia mayoria ganan menor o igual a 50k"
   ]
  },
  {
   "cell_type": "markdown",
   "metadata": {},
   "source": [
    "### Si visualizamos esto en un gráfico \n",
    "* Vemos que un 75,9% de las personas ganan menos o igual a 50k mientras que el 24.1% de la muestra ganan mas de 50k"
   ]
  },
  {
   "cell_type": "code",
   "execution_count": 58,
   "metadata": {},
   "outputs": [
    {
     "data": {
      "text/plain": [
       "Text(0.5, 1.0, 'Gráfico circular de sobrevivientes')"
      ]
     },
     "execution_count": 58,
     "metadata": {},
     "output_type": "execute_result"
    },
    {
     "data": {
      "image/png": "[encoded data removed]",
      "text/plain": [
       "<Figure size 432x288 with 1 Axes>"
      ]
     },
     "metadata": {},
     "output_type": "display_data"
    }
   ],
   "source": [
    "df_train['Sueldo'].value_counts().plot.pie(explode=[0,0.1],autopct='%1.1f%%')\n",
    "plt.title(\"Gráfico circular de sobrevivientes\")"
   ]
  },
  {
   "cell_type": "markdown",
   "metadata": {},
   "source": [
    "# Visualizaciones de la informacion en gráficos\n"
   ]
  },
  {
   "cell_type": "markdown",
   "metadata": {},
   "source": [
    "## Primero visualizaremos características categóricas."
   ]
  },
  {
   "cell_type": "code",
   "execution_count": 57,
   "metadata": {},
   "outputs": [
    {
     "data": {
      "text/plain": [
       "Text(0.5, 1.0, 'Cantidad de personas por sueldo y clase de trabajo')"
      ]
     },
     "execution_count": 57,
     "metadata": {},
     "output_type": "execute_result"
    },
    {
     "data": {
      "image/png": "[encoded data removed]",
      "text/plain": [
       "<Figure size 1080x576 with 1 Axes>"
      ]
     },
     "metadata": {},
     "output_type": "display_data"
    }
   ],
   "source": [
    "plt.figure(figsize=(15,8))\n",
    "sns.countplot(df_train['clase de trabajo'], hue=df_train['Sueldo'])\n",
    "plt.xlabel(\"Clase de Trabajo\",fontsize=15)\n",
    "plt.ylabel(\"Cantidad de personas\",fontsize=15)\n",
    "plt.title(\"Cantidad de personas por sueldo y clase de trabajo\",fontsize=15)"
   ]
  },
  {
   "cell_type": "code",
   "execution_count": 59,
   "metadata": {},
   "outputs": [
    {
     "data": {
      "image/png": "[encoded data removed]",
      "text/plain": [
       "<Figure size 1080x576 with 1 Axes>"
      ]
     },
     "metadata": {},
     "output_type": "display_data"
    }
   ],
   "source": [
    "plt.figure(figsize=(15,8))\n",
    "ax = sns.countplot(df_train['educación'], hue=df_train['Sueldo']);\n",
    "ax.set_xticklabels(ax.get_xticklabels(), rotation=30)\n",
    "plt.xlabel(\"Nivel de Educación\",fontsize=15)\n",
    "plt.ylabel(\"Cantidad de personas\",fontsize=15)\n",
    "plt.title(\"Distribución de los sueldos por nivel educacional\",fontsize=15)\n",
    "plt.show()"
   ]
  },
  {
   "cell_type": "code",
   "execution_count": 62,
   "metadata": {},
   "outputs": [
    {
     "data": {
      "text/plain": [
       "Text(0.5, 1.0, 'Distribución de los sueldos por estado civil')"
      ]
     },
     "execution_count": 62,
     "metadata": {},
     "output_type": "execute_result"
    },
    {
     "data": {
      "image/png": "[encoded data removed]",
      "text/plain": [
       "<Figure size 1080x576 with 1 Axes>"
      ]
     },
     "metadata": {},
     "output_type": "display_data"
    }
   ],
   "source": [
    "plt.figure(figsize=(15,8))\n",
    "sns.countplot(df_train['estado civil'], hue=df_train['Sueldo'])\n",
    "plt.xlabel(\"Estado civil\",fontsize=15)\n",
    "plt.ylabel(\"Cantidad de personas\",fontsize=15)\n",
    "plt.title(\"Distribución de los sueldos por estado civil\",fontsize=15)"
   ]
  },
  {
   "cell_type": "code",
   "execution_count": 64,
   "metadata": {},
   "outputs": [
    {
     "data": {
      "image/png": "[encoded data removed]",
      "text/plain": [
       "<Figure size 1080x576 with 1 Axes>"
      ]
     },
     "metadata": {},
     "output_type": "display_data"
    }
   ],
   "source": [
    "plt.figure(figsize=(15,8))\n",
    "ax = sns.countplot(df_train['Ocupación'], hue=df_train['Sueldo']);\n",
    "ax.set_xticklabels(ax.get_xticklabels(), rotation=40)\n",
    "plt.xlabel(\"Ocupación\",fontsize=15)\n",
    "plt.ylabel(\"Cantidad de personas\",fontsize=15)\n",
    "plt.title(\"Distribución de los sueldos por Ocupacón\",fontsize=15)\n",
    "plt.show()"
   ]
  },
  {
   "cell_type": "code",
   "execution_count": 65,
   "metadata": {},
   "outputs": [
    {
     "data": {
      "text/plain": [
       "Text(0.5, 1.0, 'Distribución de los sueldos por Relación')"
      ]
     },
     "execution_count": 65,
     "metadata": {},
     "output_type": "execute_result"
    },
    {
     "data": {
      "image/png": "[encoded data removed]",
      "text/plain": [
       "<Figure size 1080x576 with 1 Axes>"
      ]
     },
     "metadata": {},
     "output_type": "display_data"
    }
   ],
   "source": [
    "plt.figure(figsize=(15,8))\n",
    "sns.countplot(df_train['relación'], hue=df_train['Sueldo'])\n",
    "plt.xlabel(\"Relación\",fontsize=15)\n",
    "plt.ylabel(\"Cantidad de personas\",fontsize=15)\n",
    "plt.title(\"Distribución de los sueldos por Relación\",fontsize=15)"
   ]
  },
  {
   "cell_type": "code",
   "execution_count": 66,
   "metadata": {},
   "outputs": [
    {
     "data": {
      "text/plain": [
       "Text(0.5, 1.0, 'Distribución de los sueldos por Raza')"
      ]
     },
     "execution_count": 66,
     "metadata": {},
     "output_type": "execute_result"
    },
    {
     "data": {
      "image/png": "[encoded data removed]",
      "text/plain": [
       "<Figure size 1080x576 with 1 Axes>"
      ]
     },
     "metadata": {},
     "output_type": "display_data"
    }
   ],
   "source": [
    "plt.figure(figsize=(15,8))\n",
    "sns.countplot(df_train['raza'], hue=df_train['Sueldo'])\n",
    "plt.xlabel(\"Raza\",fontsize=15)\n",
    "plt.ylabel(\"Cantidad de personas\",fontsize=15)\n",
    "plt.title(\"Distribución de los sueldos por Raza\",fontsize=15)"
   ]
  },
  {
   "cell_type": "code",
   "execution_count": 68,
   "metadata": {},
   "outputs": [
    {
     "data": {
      "text/plain": [
       "Text(0.5, 1.0, 'Distribución de los sueldos por sexo')"
      ]
     },
     "execution_count": 68,
     "metadata": {},
     "output_type": "execute_result"
    },
    {
     "data": {
      "image/png": "[encoded data removed]",
      "text/plain": [
       "<Figure size 432x288 with 1 Axes>"
      ]
     },
     "metadata": {},
     "output_type": "display_data"
    }
   ],
   "source": [
    "sns.countplot(df_train['Sexo'], hue=df_train['Sueldo'])\n",
    "plt.xlabel(\"Sexo\",fontsize=15)\n",
    "plt.ylabel(\"Cantidad de personas\",fontsize=15)\n",
    "plt.title(\"Distribución de los sueldos por sexo\",fontsize=15)"
   ]
  },
  {
   "cell_type": "code",
   "execution_count": 70,
   "metadata": {},
   "outputs": [
    {
     "data": {
      "image/png": "[encoded data removed]",
      "text/plain": [
       "<Figure size 1080x576 with 1 Axes>"
      ]
     },
     "metadata": {},
     "output_type": "display_data"
    }
   ],
   "source": [
    "plt.figure(figsize=(15,8))\n",
    "ax = sns.countplot(df_train['país de origen']);\n",
    "\n",
    "ax.set_xticklabels(ax.get_xticklabels(), rotation=40, ha=\"right\")\n",
    "plt.xlabel(\"País de origen\",fontsize=15)\n",
    "plt.ylabel(\"Cantidad de personas\",fontsize=15)\n",
    "plt.title(\"Distribución por país de origen\",fontsize=15)\n",
    "plt.show()"
   ]
  },
  {
   "cell_type": "code",
   "execution_count": 77,
   "metadata": {},
   "outputs": [
    {
     "data": {
      "text/plain": [
       "Text(0.5, 1.0, 'Distribución de los datos de edad')"
      ]
     },
     "execution_count": 77,
     "metadata": {},
     "output_type": "execute_result"
    },
    {
     "data": {
      "image/png": "[encoded data removed]",
      "text/plain": [
       "<Figure size 1080x576 with 1 Axes>"
      ]
     },
     "metadata": {},
     "output_type": "display_data"
    }
   ],
   "source": [
    "plt.figure(figsize=(15,8))\n",
    "sns.distplot(df_train['edad'])\n",
    "plt.title(\"Distribución de los datos de edad\",fontsize=15)"
   ]
  },
  {
   "cell_type": "code",
   "execution_count": 79,
   "metadata": {},
   "outputs": [
    {
     "data": {
      "text/plain": [
       "Text(0.5, 1.0, 'Distribución de los datos de fnlwgt')"
      ]
     },
     "execution_count": 79,
     "metadata": {},
     "output_type": "execute_result"
    },
    {
     "data": {
      "image/png": "[encoded data removed]",
      "text/plain": [
       "<Figure size 1080x576 with 1 Axes>"
      ]
     },
     "metadata": {},
     "output_type": "display_data"
    }
   ],
   "source": [
    "plt.figure(figsize=(15,8))\n",
    "sns.distplot(df_train['fnlwgt'])\n",
    "plt.title(\"Distribución de los datos de fnlwgt\",fontsize=15)"
   ]
  },
  {
   "cell_type": "code",
   "execution_count": 81,
   "metadata": {},
   "outputs": [
    {
     "data": {
      "text/plain": [
       "Text(0.5, 1.0, 'Distribución de los datos educación-num')"
      ]
     },
     "execution_count": 81,
     "metadata": {},
     "output_type": "execute_result"
    },
    {
     "data": {
      "image/png": "[encoded data removed]",
      "text/plain": [
       "<Figure size 1080x576 with 1 Axes>"
      ]
     },
     "metadata": {},
     "output_type": "display_data"
    }
   ],
   "source": [
    "plt.figure(figsize=(15,8))\n",
    "sns.distplot(df_train['educación-num'])\n",
    "plt.title(\"Distribución de los datos educación-num\",fontsize=15)"
   ]
  },
  {
   "cell_type": "code",
   "execution_count": 82,
   "metadata": {},
   "outputs": [
    {
     "data": {
      "text/plain": [
       "Text(0.5, 1.0, 'Distribución de los datos de horas por semana')"
      ]
     },
     "execution_count": 82,
     "metadata": {},
     "output_type": "execute_result"
    },
    {
     "data": {
      "image/png": "[encoded data removed]",
      "text/plain": [
       "<Figure size 1080x576 with 1 Axes>"
      ]
     },
     "metadata": {},
     "output_type": "display_data"
    }
   ],
   "source": [
    "plt.figure(figsize=(15,8))\n",
    "sns.distplot(df_train['horas por semana'])\n",
    "plt.title(\"Distribución de los datos de horas por semana\",fontsize=15)"
   ]
  },
  {
   "cell_type": "markdown",
   "metadata": {},
   "source": [
    "# Matriz de correlación"
   ]
  },
  {
   "cell_type": "code",
   "execution_count": 25,
   "metadata": {},
   "outputs": [
    {
     "data": {
      "image/png": "[encoded data removed]",
      "text/plain": [
       "<Figure size 432x288 with 2 Axes>"
      ]
     },
     "metadata": {},
     "output_type": "display_data"
    }
   ],
   "source": [
    "sns.heatmap(df.corr(), annot=True, cmap='viridis');"
   ]
  },
  {
   "cell_type": "markdown",
   "metadata": {},
   "source": [
    "### Mediante la visualización de la información podemos notar que tenemos valores faltantes que estan con el simbolo de \"?\", otra punto importante es que los datos de pais de origen en su amplia mayoria son de EEUU"
   ]
  },
  {
   "cell_type": "markdown",
   "metadata": {},
   "source": [
    "# Limpieza de los Datos"
   ]
  },
  {
   "cell_type": "markdown",
   "metadata": {},
   "source": [
    "#### La limpieza de los datos es el paso mas importante para posteriormente ejecutar nuestos modelos"
   ]
  },
  {
   "cell_type": "markdown",
   "metadata": {},
   "source": [
    "### La variable objetivo"
   ]
  },
  {
   "cell_type": "markdown",
   "metadata": {},
   "source": [
    "* Sueldo tenemos Solamente dos y es de tipo object para tratar esta variable utilizaremos el metodo de label encoder de SKlearn"
   ]
  },
  {
   "cell_type": "code",
   "execution_count": 170,
   "metadata": {},
   "outputs": [
    {
     "data": {
      "text/plain": [
       "array([' <=50K', ' >50K'], dtype=object)"
      ]
     },
     "execution_count": 170,
     "metadata": {},
     "output_type": "execute_result"
    }
   ],
   "source": [
    "df_train[\"Sueldo\"].unique()"
   ]
  },
  {
   "cell_type": "code",
   "execution_count": 171,
   "metadata": {},
   "outputs": [],
   "source": [
    "le = LabelEncoder()\n",
    "df_train[\"Sueldo\"]=le.fit_transform(df_train[\"Sueldo\"])"
   ]
  },
  {
   "cell_type": "markdown",
   "metadata": {},
   "source": [
    "##### Vemos que ahora se convirtio en un tipo de variable int32 y es un arreglo de 0,1"
   ]
  },
  {
   "cell_type": "code",
   "execution_count": 172,
   "metadata": {},
   "outputs": [
    {
     "data": {
      "text/plain": [
       "dtype('int32')"
      ]
     },
     "execution_count": 172,
     "metadata": {},
     "output_type": "execute_result"
    }
   ],
   "source": [
    "df_train[\"Sueldo\"].dtype"
   ]
  },
  {
   "cell_type": "code",
   "execution_count": 173,
   "metadata": {},
   "outputs": [
    {
     "data": {
      "text/plain": [
       "0        0\n",
       "1        0\n",
       "2        0\n",
       "3        0\n",
       "4        0\n",
       "        ..\n",
       "32556    0\n",
       "32557    1\n",
       "32558    0\n",
       "32559    0\n",
       "32560    1\n",
       "Name: Sueldo, Length: 32561, dtype: int32"
      ]
     },
     "execution_count": 173,
     "metadata": {},
     "output_type": "execute_result"
    }
   ],
   "source": [
    "df_train[\"Sueldo\"]"
   ]
  },
  {
   "cell_type": "markdown",
   "metadata": {},
   "source": [
    "### Trataremos la variable de Estado civil"
   ]
  },
  {
   "cell_type": "code",
   "execution_count": 174,
   "metadata": {},
   "outputs": [
    {
     "data": {
      "text/plain": [
       "array([' Never-married', ' Married-civ-spouse', ' Divorced',\n",
       "       ' Married-spouse-absent', ' Separated', ' Married-AF-spouse',\n",
       "       ' Widowed'], dtype=object)"
      ]
     },
     "execution_count": 174,
     "metadata": {},
     "output_type": "execute_result"
    }
   ],
   "source": [
    "df_train[\"estado civil\"].unique()"
   ]
  },
  {
   "cell_type": "markdown",
   "metadata": {},
   "source": [
    "### Mediante el gráfico nos dimos cuenta que varias expresan practicamente lo mismo como separado y divorciado, para hacer Este tipo de cambios podemos usar Replace o numpy para esta prueba utilizaremos numpy\n",
    "adjuntamos la documentación de numpy https://numpy.org/doc/stable/reference/generated/numpy.where.html"
   ]
  },
  {
   "cell_type": "markdown",
   "metadata": {},
   "source": [
    "* Divorciado y Separado lo dejaremos como divorciado"
   ]
  },
  {
   "cell_type": "code",
   "execution_count": 175,
   "metadata": {},
   "outputs": [],
   "source": [
    "df_train[\"estado civil\"] = np.where(df_train[\"estado civil\"]==\" Divorced\", \"Divorciado\", df_train[\"estado civil\"])\n",
    "df_train[\"estado civil\"] = np.where(df_train[\"estado civil\"]==\" Separated\", \"Divorciado\", df_train[\"estado civil\"])"
   ]
  },
  {
   "cell_type": "markdown",
   "metadata": {},
   "source": [
    "Los distintos tipos de Casado seran Casado"
   ]
  },
  {
   "cell_type": "code",
   "execution_count": 176,
   "metadata": {},
   "outputs": [],
   "source": [
    "df_train[\"estado civil\"] = np.where(df_train[\"estado civil\"]==\" Married-civ-spouse\", \"Casado\", df_train[\"estado civil\"])\n",
    "df_train[\"estado civil\"] = np.where(df_train[\"estado civil\"]==\" Married-spouse-absent\", \"Casado\", df_train[\"estado civil\"])\n",
    "df_train[\"estado civil\"] = np.where(df_train[\"estado civil\"]==\" Married-AF-spouse\", \"Casado\", df_train[\"estado civil\"])"
   ]
  },
  {
   "cell_type": "code",
   "execution_count": 177,
   "metadata": {},
   "outputs": [
    {
     "data": {
      "text/plain": [
       "array([' Never-married', 'Casado', 'Divorciado', ' Widowed'], dtype=object)"
      ]
     },
     "execution_count": 177,
     "metadata": {},
     "output_type": "execute_result"
    }
   ],
   "source": [
    "df_train[\"estado civil\"].unique() # vemos que tenemos un arreglo mas limpio"
   ]
  },
  {
   "cell_type": "markdown",
   "metadata": {},
   "source": [
    "### Repetimos el proceso para los datos de Test"
   ]
  },
  {
   "cell_type": "code",
   "execution_count": 178,
   "metadata": {},
   "outputs": [],
   "source": [
    "df_test[\"estado civil\"] = np.where(df_test[\"estado civil\"]==\" Divorced\", \"Divorciado\", df_test[\"estado civil\"])\n",
    "df_test[\"estado civil\"] = np.where(df_test[\"estado civil\"]==\" Separated\", \"Divorciado\", df_test[\"estado civil\"])\n",
    "df_test[\"estado civil\"] = np.where(df_test[\"estado civil\"]==\" Married-civ-spouse\", \"Casado\", df_test[\"estado civil\"])\n",
    "df_test[\"estado civil\"] = np.where(df_test[\"estado civil\"]==\" Married-spouse-absent\", \"Casado\", df_test[\"estado civil\"])\n",
    "df_test[\"estado civil\"] = np.where(df_test[\"estado civil\"]==\" Married-AF-spouse\", \"Casado\", df_test[\"estado civil\"])"
   ]
  },
  {
   "cell_type": "code",
   "execution_count": 179,
   "metadata": {},
   "outputs": [
    {
     "data": {
      "text/plain": [
       "array([' Never-married', 'Casado', ' Widowed', 'Divorciado'], dtype=object)"
      ]
     },
     "execution_count": 179,
     "metadata": {},
     "output_type": "execute_result"
    }
   ],
   "source": [
    "df_test[\"estado civil\"].unique() # vemos que tenemos un arreglo mas limpio"
   ]
  },
  {
   "cell_type": "markdown",
   "metadata": {},
   "source": [
    "## Clase de trabajo limpiaremos los \"?\" lo dejaremos como valor desconocido"
   ]
  },
  {
   "cell_type": "code",
   "execution_count": 180,
   "metadata": {},
   "outputs": [],
   "source": [
    "df_train[\"clase de trabajo\"]=np.where(df_train[\"clase de trabajo\"]==\" ?\",\"Desconocido\",df_train[\"clase de trabajo\"])\n",
    "df_test[\"clase de trabajo\"]=np.where(df_test[\"clase de trabajo\"]==\" ?\",\"Desconocido\",df_test[\"clase de trabajo\"])"
   ]
  },
  {
   "cell_type": "markdown",
   "metadata": {},
   "source": [
    "## En ocupación repetiremos el proceso"
   ]
  },
  {
   "cell_type": "code",
   "execution_count": 181,
   "metadata": {},
   "outputs": [],
   "source": [
    "df_train[\"Ocupación\"] = np.where(df_train[\"Ocupación\"]==\" ?\", \"Desconocido\", df_train[\"Ocupación\"])\n",
    "df_test[\"Ocupación\"] = np.where(df_test[\"Ocupación\"]==\" ?\", \"Desconocido\", df_test[\"Ocupación\"])"
   ]
  },
  {
   "cell_type": "markdown",
   "metadata": {},
   "source": [
    "## Limpiaremos los datos de educación"
   ]
  },
  {
   "cell_type": "markdown",
   "metadata": {},
   "source": [
    "### Como vemos tenemos mucha segmentacion seria como aca en chile decir 2do, 3ero ,4 medio, y si lo expresamos de otra forma seria educacion media, haremos eso con los datos, mediante informacion oficial del sistema educativo de EEUU"
   ]
  },
  {
   "cell_type": "code",
   "execution_count": 101,
   "metadata": {},
   "outputs": [
    {
     "data": {
      "image/jpeg": "[encoded data removed]",
      "text/plain": [
       "<IPython.core.display.Image object>"
      ]
     },
     "execution_count": 101,
     "metadata": {},
     "output_type": "execute_result"
    }
   ],
   "source": [
    "Image(filename=\"D:/DataSet/educacion.jpg\")"
   ]
  },
  {
   "cell_type": "code",
   "execution_count": 182,
   "metadata": {},
   "outputs": [
    {
     "data": {
      "text/plain": [
       "array([' Bachelors', ' HS-grad', ' 11th', ' Masters', ' 9th',\n",
       "       ' Some-college', ' Assoc-acdm', ' Assoc-voc', ' 7th-8th',\n",
       "       ' Doctorate', ' Prof-school', ' 5th-6th', ' 10th', ' 1st-4th',\n",
       "       ' Preschool', ' 12th'], dtype=object)"
      ]
     },
     "execution_count": 182,
     "metadata": {},
     "output_type": "execute_result"
    }
   ],
   "source": [
    "df_train[\"educación\"].unique()"
   ]
  },
  {
   "cell_type": "markdown",
   "metadata": {},
   "source": [
    "# Utilizaremos numpy para filtrar y cambiar los valores"
   ]
  },
  {
   "cell_type": "code",
   "execution_count": 183,
   "metadata": {},
   "outputs": [],
   "source": [
    "df_train[\"educación\"] = np.where(df_train[\"educación\"]==\" Preschool\", \"Primaria\", df_train[\"educación\"])\n",
    "df_train[\"educación\"] = np.where(df_train[\"educación\"]==\" 1st-4th\", \"Primaria\", df_train[\"educación\"])\n",
    "\n",
    "df_train[\"educación\"] = np.where(df_train[\"educación\"]==\" 5th-6th\", \"Secundaria\", df_train[\"educación\"])\n",
    "df_train[\"educación\"] = np.where(df_train[\"educación\"]==\" 7th-8th\", \"Secundaria\", df_train[\"educación\"])\n",
    "\n",
    "df_train[\"educación\"] = np.where(df_train[\"educación\"]==\" 9th\", \"High School\", df_train[\"educación\"])\n",
    "df_train[\"educación\"] = np.where(df_train[\"educación\"]==\" 10th\", \"High School\", df_train[\"educación\"])\n",
    "df_train[\"educación\"] = np.where(df_train[\"educación\"]==\" 11th\", \"High School\", df_train[\"educación\"])\n",
    "df_train[\"educación\"] = np.where(df_train[\"educación\"]==\" 12th\", \"High School\", df_train[\"educación\"])\n",
    "df_train[\"educación\"] = np.where(df_train[\"educación\"]==\" HS-grad\", \"High School\", df_train[\"educación\"])\n",
    "\n",
    "df_train[\"educación\"] = np.where(df_train[\"educación\"]==\" Some-college\",\"Universidad\", df_train[\"educación\"])\n",
    "df_train[\"educación\"] = np.where(df_train[\"educación\"]==\" Assoc-acdm\", \"Universidad\", df_train[\"educación\"])\n",
    "df_train[\"educación\"] = np.where(df_train[\"educación\"]==\" Assoc-voc\", \"Universidad\", df_train[\"educación\"])\n",
    "\n",
    "df_train[\"educación\"] = np.where(df_train[\"educación\"]==\" Bachelors\", \"Posgrado\", df_train[\"educación\"])\n",
    "df_train[\"educación\"] = np.where(df_train[\"educación\"]==\" Masters\", \"Posgrado\", df_train[\"educación\"])\n",
    "df_train[\"educación\"] = np.where(df_train[\"educación\"]==\" Prof-school\", \"Posgrado\", df_train[\"educación\"])\n",
    "df_train[\"educación\"] = np.where(df_train[\"educación\"]==\" Doctorate\", \"Posgrado\", df_train[\"educación\"])"
   ]
  },
  {
   "cell_type": "code",
   "execution_count": 184,
   "metadata": {},
   "outputs": [
    {
     "data": {
      "text/plain": [
       "array(['Posgrado', 'High School', 'Universidad', 'Secundaria', 'Primaria'],\n",
       "      dtype=object)"
      ]
     },
     "execution_count": 184,
     "metadata": {},
     "output_type": "execute_result"
    }
   ],
   "source": [
    "df_train[\"educación\"].unique() # vemos un arreglo mas limpio"
   ]
  },
  {
   "cell_type": "markdown",
   "metadata": {},
   "source": [
    "### Repetimos el proceso en los datos de test"
   ]
  },
  {
   "cell_type": "code",
   "execution_count": 185,
   "metadata": {},
   "outputs": [],
   "source": [
    "df_test[\"educación\"] = np.where(df_test[\"educación\"]==\" Preschool\", \"Primaria\", df_test[\"educación\"])\n",
    "df_test[\"educación\"] = np.where(df_test[\"educación\"]==\" 1st-4th\", \"Primaria\", df_test[\"educación\"])\n",
    "\n",
    "df_test[\"educación\"] = np.where(df_test[\"educación\"]==\" 5th-6th\", \"Secundaria\", df_test[\"educación\"])\n",
    "df_test[\"educación\"] = np.where(df_test[\"educación\"]==\" 7th-8th\", \"Secundaria\", df_test[\"educación\"])\n",
    "\n",
    "df_test[\"educación\"] = np.where(df_test[\"educación\"]==\" 9th\", \"High School\", df_test[\"educación\"])\n",
    "df_test[\"educación\"] = np.where(df_test[\"educación\"]==\" 10th\", \"High School\", df_test[\"educación\"])\n",
    "df_test[\"educación\"] = np.where(df_test[\"educación\"]==\" 11th\", \"High School\", df_test[\"educación\"])\n",
    "df_test[\"educación\"] = np.where(df_test[\"educación\"]==\" 12th\", \"High School\", df_test[\"educación\"])\n",
    "df_test[\"educación\"] = np.where(df_test[\"educación\"]==\" HS-grad\", \"High School\", df_test[\"educación\"])\n",
    "\n",
    "df_test[\"educación\"] = np.where(df_test[\"educación\"]==\" Some-college\",\"Universidad\", df_test[\"educación\"])\n",
    "df_test[\"educación\"] = np.where(df_test[\"educación\"]==\" Assoc-acdm\", \"Universidad\", df_test[\"educación\"])\n",
    "df_test[\"educación\"] = np.where(df_test[\"educación\"]==\" Assoc-voc\", \"Universidad\", df_test[\"educación\"])\n",
    "\n",
    "df_test[\"educación\"] = np.where(df_test[\"educación\"]==\" Bachelors\", \"Posgrado\", df_test[\"educación\"])\n",
    "df_test[\"educación\"] = np.where(df_test[\"educación\"]==\" Masters\", \"Posgrado\", df_test[\"educación\"])\n",
    "df_test[\"educación\"] = np.where(df_test[\"educación\"]==\" Prof-school\", \"Posgrado\", df_test[\"educación\"])\n",
    "df_test[\"educación\"] = np.where(df_test[\"educación\"]==\" Doctorate\", \"Posgrado\", df_test[\"educación\"])"
   ]
  },
  {
   "cell_type": "code",
   "execution_count": 186,
   "metadata": {},
   "outputs": [
    {
     "data": {
      "text/plain": [
       "array(['High School', 'Universidad', 'Posgrado', 'Secundaria', 'Primaria'],\n",
       "      dtype=object)"
      ]
     },
     "execution_count": 186,
     "metadata": {},
     "output_type": "execute_result"
    }
   ],
   "source": [
    "df_test[\"educación\"].unique() # vemos un arreglo mas limpio"
   ]
  },
  {
   "cell_type": "markdown",
   "metadata": {},
   "source": [
    "## Variable sexo solo tenemos un valor nulo asi que decidimos borrarlo ya que remplazarlo por valor desconocido no sera influyente en este análisis"
   ]
  },
  {
   "cell_type": "code",
   "execution_count": 147,
   "metadata": {},
   "outputs": [
    {
     "data": {
      "text/plain": [
       "array([' Male', ' Female', nan], dtype=object)"
      ]
     },
     "execution_count": 147,
     "metadata": {},
     "output_type": "execute_result"
    }
   ],
   "source": [
    "df_train[\"Sexo\"].unique()"
   ]
  },
  {
   "cell_type": "code",
   "execution_count": 187,
   "metadata": {},
   "outputs": [],
   "source": [
    "df_train[\"Sexo\"].fillna(\"Desconocido\",inplace =True)"
   ]
  },
  {
   "cell_type": "code",
   "execution_count": 188,
   "metadata": {},
   "outputs": [
    {
     "data": {
      "text/plain": [
       "0           Male\n",
       "1           Male\n",
       "2           Male\n",
       "3           Male\n",
       "4         Female\n",
       "          ...   \n",
       "32556     Female\n",
       "32557       Male\n",
       "32558     Female\n",
       "32559       Male\n",
       "32560     Female\n",
       "Name: Sexo, Length: 32561, dtype: object"
      ]
     },
     "execution_count": 188,
     "metadata": {},
     "output_type": "execute_result"
    }
   ],
   "source": [
    "df_train[\"Sexo\"]"
   ]
  },
  {
   "cell_type": "markdown",
   "metadata": {},
   "source": [
    "## Crearemos las varibles dummy de sexo y eliminaremos la redundante"
   ]
  },
  {
   "cell_type": "code",
   "execution_count": 189,
   "metadata": {},
   "outputs": [],
   "source": [
    "dummy_sexo = pd.get_dummies(df_train[\"Sexo\"],prefix=\"Sexo\").iloc[:,1:]"
   ]
  },
  {
   "cell_type": "code",
   "execution_count": 190,
   "metadata": {},
   "outputs": [
    {
     "data": {
      "text/html": [
       "<div>\n",
       "<style scoped>\n",
       "    .dataframe tbody tr th:only-of-type {\n",
       "        vertical-align: middle;\n",
       "    }\n",
       "\n",
       "    .dataframe tbody tr th {\n",
       "        vertical-align: top;\n",
       "    }\n",
       "\n",
       "    .dataframe thead th {\n",
       "        text-align: right;\n",
       "    }\n",
       "</style>\n",
       "<table border=\"1\" class=\"dataframe\">\n",
       "  <thead>\n",
       "    <tr style=\"text-align: right;\">\n",
       "      <th></th>\n",
       "      <th>Sexo_ Male</th>\n",
       "      <th>Sexo_Desconocido</th>\n",
       "    </tr>\n",
       "  </thead>\n",
       "  <tbody>\n",
       "    <tr>\n",
       "      <th>0</th>\n",
       "      <td>1</td>\n",
       "      <td>0</td>\n",
       "    </tr>\n",
       "    <tr>\n",
       "      <th>1</th>\n",
       "      <td>1</td>\n",
       "      <td>0</td>\n",
       "    </tr>\n",
       "    <tr>\n",
       "      <th>2</th>\n",
       "      <td>1</td>\n",
       "      <td>0</td>\n",
       "    </tr>\n",
       "    <tr>\n",
       "      <th>3</th>\n",
       "      <td>1</td>\n",
       "      <td>0</td>\n",
       "    </tr>\n",
       "    <tr>\n",
       "      <th>4</th>\n",
       "      <td>0</td>\n",
       "      <td>0</td>\n",
       "    </tr>\n",
       "    <tr>\n",
       "      <th>...</th>\n",
       "      <td>...</td>\n",
       "      <td>...</td>\n",
       "    </tr>\n",
       "    <tr>\n",
       "      <th>32556</th>\n",
       "      <td>0</td>\n",
       "      <td>0</td>\n",
       "    </tr>\n",
       "    <tr>\n",
       "      <th>32557</th>\n",
       "      <td>1</td>\n",
       "      <td>0</td>\n",
       "    </tr>\n",
       "    <tr>\n",
       "      <th>32558</th>\n",
       "      <td>0</td>\n",
       "      <td>0</td>\n",
       "    </tr>\n",
       "    <tr>\n",
       "      <th>32559</th>\n",
       "      <td>1</td>\n",
       "      <td>0</td>\n",
       "    </tr>\n",
       "    <tr>\n",
       "      <th>32560</th>\n",
       "      <td>0</td>\n",
       "      <td>0</td>\n",
       "    </tr>\n",
       "  </tbody>\n",
       "</table>\n",
       "<p>32561 rows × 2 columns</p>\n",
       "</div>"
      ],
      "text/plain": [
       "       Sexo_ Male  Sexo_Desconocido\n",
       "0               1                 0\n",
       "1               1                 0\n",
       "2               1                 0\n",
       "3               1                 0\n",
       "4               0                 0\n",
       "...           ...               ...\n",
       "32556           0                 0\n",
       "32557           1                 0\n",
       "32558           0                 0\n",
       "32559           1                 0\n",
       "32560           0                 0\n",
       "\n",
       "[32561 rows x 2 columns]"
      ]
     },
     "execution_count": 190,
     "metadata": {},
     "output_type": "execute_result"
    }
   ],
   "source": [
    "dummy_sexo"
   ]
  },
  {
   "cell_type": "code",
   "execution_count": 191,
   "metadata": {},
   "outputs": [],
   "source": [
    "df_train=pd.concat([df_train,dummy_sexo],axis=1)"
   ]
  },
  {
   "cell_type": "code",
   "execution_count": 192,
   "metadata": {},
   "outputs": [],
   "source": [
    "dummy_sexot = pd.get_dummies(df_test[\"Sexo\"],prefix=\"Sexo\").iloc[:,1:]"
   ]
  },
  {
   "cell_type": "code",
   "execution_count": 193,
   "metadata": {},
   "outputs": [],
   "source": [
    "df_test=pd.concat([df_test,dummy_sexot],axis=1)"
   ]
  },
  {
   "cell_type": "code",
   "execution_count": 194,
   "metadata": {},
   "outputs": [],
   "source": [
    "df_train.drop(['Sexo'], axis = 1, inplace = True)\n",
    "df_test.drop(['Sexo'], axis = 1, inplace = True)"
   ]
  },
  {
   "cell_type": "markdown",
   "metadata": {},
   "source": [
    "# Borrado de columnas que no utilizaremos para los modelos "
   ]
  },
  {
   "cell_type": "code",
   "execution_count": 195,
   "metadata": {},
   "outputs": [],
   "source": [
    "df_train.drop(['Id','fnlwgt', 'ganancia de capital', 'pérdida de capital', 'país de origen', 'educación-num'], axis=1, inplace=True)"
   ]
  },
  {
   "cell_type": "code",
   "execution_count": 196,
   "metadata": {},
   "outputs": [
    {
     "data": {
      "text/html": [
       "<div>\n",
       "<style scoped>\n",
       "    .dataframe tbody tr th:only-of-type {\n",
       "        vertical-align: middle;\n",
       "    }\n",
       "\n",
       "    .dataframe tbody tr th {\n",
       "        vertical-align: top;\n",
       "    }\n",
       "\n",
       "    .dataframe thead th {\n",
       "        text-align: right;\n",
       "    }\n",
       "</style>\n",
       "<table border=\"1\" class=\"dataframe\">\n",
       "  <thead>\n",
       "    <tr style=\"text-align: right;\">\n",
       "      <th></th>\n",
       "      <th>edad</th>\n",
       "      <th>clase de trabajo</th>\n",
       "      <th>educación</th>\n",
       "      <th>estado civil</th>\n",
       "      <th>Ocupación</th>\n",
       "      <th>relación</th>\n",
       "      <th>raza</th>\n",
       "      <th>horas por semana</th>\n",
       "      <th>Sueldo</th>\n",
       "      <th>Sexo_ Male</th>\n",
       "      <th>Sexo_Desconocido</th>\n",
       "    </tr>\n",
       "  </thead>\n",
       "  <tbody>\n",
       "    <tr>\n",
       "      <th>0</th>\n",
       "      <td>39</td>\n",
       "      <td>State-gov</td>\n",
       "      <td>Posgrado</td>\n",
       "      <td>Never-married</td>\n",
       "      <td>Adm-clerical</td>\n",
       "      <td>Not-in-family</td>\n",
       "      <td>White</td>\n",
       "      <td>40</td>\n",
       "      <td>0</td>\n",
       "      <td>1</td>\n",
       "      <td>0</td>\n",
       "    </tr>\n",
       "    <tr>\n",
       "      <th>1</th>\n",
       "      <td>50</td>\n",
       "      <td>Self-emp-not-inc</td>\n",
       "      <td>Posgrado</td>\n",
       "      <td>Casado</td>\n",
       "      <td>Exec-managerial</td>\n",
       "      <td>Husband</td>\n",
       "      <td>White</td>\n",
       "      <td>13</td>\n",
       "      <td>0</td>\n",
       "      <td>1</td>\n",
       "      <td>0</td>\n",
       "    </tr>\n",
       "    <tr>\n",
       "      <th>2</th>\n",
       "      <td>38</td>\n",
       "      <td>Private</td>\n",
       "      <td>High School</td>\n",
       "      <td>Divorciado</td>\n",
       "      <td>Handlers-cleaners</td>\n",
       "      <td>Not-in-family</td>\n",
       "      <td>White</td>\n",
       "      <td>40</td>\n",
       "      <td>0</td>\n",
       "      <td>1</td>\n",
       "      <td>0</td>\n",
       "    </tr>\n",
       "    <tr>\n",
       "      <th>3</th>\n",
       "      <td>53</td>\n",
       "      <td>Private</td>\n",
       "      <td>High School</td>\n",
       "      <td>Casado</td>\n",
       "      <td>Handlers-cleaners</td>\n",
       "      <td>Husband</td>\n",
       "      <td>Black</td>\n",
       "      <td>40</td>\n",
       "      <td>0</td>\n",
       "      <td>1</td>\n",
       "      <td>0</td>\n",
       "    </tr>\n",
       "    <tr>\n",
       "      <th>4</th>\n",
       "      <td>28</td>\n",
       "      <td>Private</td>\n",
       "      <td>Posgrado</td>\n",
       "      <td>Casado</td>\n",
       "      <td>Prof-specialty</td>\n",
       "      <td>Wife</td>\n",
       "      <td>Black</td>\n",
       "      <td>40</td>\n",
       "      <td>0</td>\n",
       "      <td>0</td>\n",
       "      <td>0</td>\n",
       "    </tr>\n",
       "  </tbody>\n",
       "</table>\n",
       "</div>"
      ],
      "text/plain": [
       "   edad   clase de trabajo    educación    estado civil           Ocupación  \\\n",
       "0    39          State-gov     Posgrado   Never-married        Adm-clerical   \n",
       "1    50   Self-emp-not-inc     Posgrado          Casado     Exec-managerial   \n",
       "2    38            Private  High School      Divorciado   Handlers-cleaners   \n",
       "3    53            Private  High School          Casado   Handlers-cleaners   \n",
       "4    28            Private     Posgrado          Casado      Prof-specialty   \n",
       "\n",
       "         relación    raza  horas por semana  Sueldo  Sexo_ Male  \\\n",
       "0   Not-in-family   White                40       0           1   \n",
       "1         Husband   White                13       0           1   \n",
       "2   Not-in-family   White                40       0           1   \n",
       "3         Husband   Black                40       0           1   \n",
       "4            Wife   Black                40       0           0   \n",
       "\n",
       "   Sexo_Desconocido  \n",
       "0                 0  \n",
       "1                 0  \n",
       "2                 0  \n",
       "3                 0  \n",
       "4                 0  "
      ]
     },
     "execution_count": 196,
     "metadata": {},
     "output_type": "execute_result"
    }
   ],
   "source": [
    "df_train.head()"
   ]
  },
  {
   "cell_type": "code",
   "execution_count": 197,
   "metadata": {},
   "outputs": [],
   "source": [
    "df_test.drop(['Id','fnlwgt', 'ganancia de capital', 'pérdida de capital', 'país de origen', 'educación-num'], axis=1, inplace=True)"
   ]
  },
  {
   "cell_type": "code",
   "execution_count": 159,
   "metadata": {},
   "outputs": [
    {
     "data": {
      "text/html": [
       "<div>\n",
       "<style scoped>\n",
       "    .dataframe tbody tr th:only-of-type {\n",
       "        vertical-align: middle;\n",
       "    }\n",
       "\n",
       "    .dataframe tbody tr th {\n",
       "        vertical-align: top;\n",
       "    }\n",
       "\n",
       "    .dataframe thead th {\n",
       "        text-align: right;\n",
       "    }\n",
       "</style>\n",
       "<table border=\"1\" class=\"dataframe\">\n",
       "  <thead>\n",
       "    <tr style=\"text-align: right;\">\n",
       "      <th></th>\n",
       "      <th>edad</th>\n",
       "      <th>clase de trabajo</th>\n",
       "      <th>educación</th>\n",
       "      <th>estado civil</th>\n",
       "      <th>Ocupación</th>\n",
       "      <th>relación</th>\n",
       "      <th>raza</th>\n",
       "      <th>horas por semana</th>\n",
       "      <th>Sexo_ Male</th>\n",
       "    </tr>\n",
       "  </thead>\n",
       "  <tbody>\n",
       "    <tr>\n",
       "      <th>0</th>\n",
       "      <td>25</td>\n",
       "      <td>Private</td>\n",
       "      <td>High School</td>\n",
       "      <td>Never-married</td>\n",
       "      <td>Machine-op-inspct</td>\n",
       "      <td>Own-child</td>\n",
       "      <td>Black</td>\n",
       "      <td>40</td>\n",
       "      <td>1</td>\n",
       "    </tr>\n",
       "    <tr>\n",
       "      <th>1</th>\n",
       "      <td>38</td>\n",
       "      <td>Private</td>\n",
       "      <td>High School</td>\n",
       "      <td>Casado</td>\n",
       "      <td>Farming-fishing</td>\n",
       "      <td>Husband</td>\n",
       "      <td>White</td>\n",
       "      <td>50</td>\n",
       "      <td>1</td>\n",
       "    </tr>\n",
       "    <tr>\n",
       "      <th>2</th>\n",
       "      <td>28</td>\n",
       "      <td>Local-gov</td>\n",
       "      <td>Universidad</td>\n",
       "      <td>Casado</td>\n",
       "      <td>Protective-serv</td>\n",
       "      <td>Husband</td>\n",
       "      <td>White</td>\n",
       "      <td>40</td>\n",
       "      <td>1</td>\n",
       "    </tr>\n",
       "    <tr>\n",
       "      <th>3</th>\n",
       "      <td>44</td>\n",
       "      <td>Private</td>\n",
       "      <td>Universidad</td>\n",
       "      <td>Casado</td>\n",
       "      <td>Machine-op-inspct</td>\n",
       "      <td>Husband</td>\n",
       "      <td>Black</td>\n",
       "      <td>40</td>\n",
       "      <td>1</td>\n",
       "    </tr>\n",
       "    <tr>\n",
       "      <th>4</th>\n",
       "      <td>18</td>\n",
       "      <td>Desconocido</td>\n",
       "      <td>Universidad</td>\n",
       "      <td>Never-married</td>\n",
       "      <td>Desconocido</td>\n",
       "      <td>Own-child</td>\n",
       "      <td>White</td>\n",
       "      <td>30</td>\n",
       "      <td>0</td>\n",
       "    </tr>\n",
       "  </tbody>\n",
       "</table>\n",
       "</div>"
      ],
      "text/plain": [
       "   edad clase de trabajo    educación    estado civil           Ocupación  \\\n",
       "0    25          Private  High School   Never-married   Machine-op-inspct   \n",
       "1    38          Private  High School          Casado     Farming-fishing   \n",
       "2    28        Local-gov  Universidad          Casado     Protective-serv   \n",
       "3    44          Private  Universidad          Casado   Machine-op-inspct   \n",
       "4    18      Desconocido  Universidad   Never-married         Desconocido   \n",
       "\n",
       "     relación    raza  horas por semana  Sexo_ Male  \n",
       "0   Own-child   Black                40           1  \n",
       "1     Husband   White                50           1  \n",
       "2     Husband   White                40           1  \n",
       "3     Husband   Black                40           1  \n",
       "4   Own-child   White                30           0  "
      ]
     },
     "execution_count": 159,
     "metadata": {},
     "output_type": "execute_result"
    }
   ],
   "source": [
    "df_test.head()"
   ]
  },
  {
   "cell_type": "code",
   "execution_count": 198,
   "metadata": {},
   "outputs": [],
   "source": [
    "df_train[\"clase de trabajo\"]=le.fit_transform(df_train[\"clase de trabajo\"])\n",
    "df_train[\"educación\"]=le.fit_transform(df_train[\"educación\"])\n",
    "df_train[\"estado civil\"]=le.fit_transform(df_train[\"estado civil\"])\n",
    "df_train[\"Ocupación\"]=le.fit_transform(df_train[\"Ocupación\"])\n",
    "df_train[\"relación\"]=le.fit_transform(df_train[\"relación\"])\n",
    "df_train[\"raza\"]=le.fit_transform(df_train[\"raza\"])"
   ]
  },
  {
   "cell_type": "code",
   "execution_count": 199,
   "metadata": {},
   "outputs": [],
   "source": [
    "df_test[\"clase de trabajo\"]=le.fit_transform(df_test[\"clase de trabajo\"])\n",
    "df_test[\"educación\"]=le.fit_transform(df_test[\"educación\"])\n",
    "df_test[\"estado civil\"]=le.fit_transform(df_test[\"estado civil\"])\n",
    "df_test[\"Ocupación\"]=le.fit_transform(df_test[\"Ocupación\"])\n",
    "df_test[\"relación\"]=le.fit_transform(df_test[\"relación\"])\n",
    "df_test[\"raza\"]=le.fit_transform(df_test[\"raza\"])"
   ]
  },
  {
   "cell_type": "code",
   "execution_count": 200,
   "metadata": {},
   "outputs": [
    {
     "data": {
      "text/html": [
       "<div>\n",
       "<style scoped>\n",
       "    .dataframe tbody tr th:only-of-type {\n",
       "        vertical-align: middle;\n",
       "    }\n",
       "\n",
       "    .dataframe tbody tr th {\n",
       "        vertical-align: top;\n",
       "    }\n",
       "\n",
       "    .dataframe thead th {\n",
       "        text-align: right;\n",
       "    }\n",
       "</style>\n",
       "<table border=\"1\" class=\"dataframe\">\n",
       "  <thead>\n",
       "    <tr style=\"text-align: right;\">\n",
       "      <th></th>\n",
       "      <th>edad</th>\n",
       "      <th>clase de trabajo</th>\n",
       "      <th>educación</th>\n",
       "      <th>estado civil</th>\n",
       "      <th>Ocupación</th>\n",
       "      <th>relación</th>\n",
       "      <th>raza</th>\n",
       "      <th>horas por semana</th>\n",
       "      <th>Sexo_ Male</th>\n",
       "    </tr>\n",
       "  </thead>\n",
       "  <tbody>\n",
       "    <tr>\n",
       "      <th>0</th>\n",
       "      <td>25</td>\n",
       "      <td>3</td>\n",
       "      <td>0</td>\n",
       "      <td>0</td>\n",
       "      <td>6</td>\n",
       "      <td>3</td>\n",
       "      <td>2</td>\n",
       "      <td>40</td>\n",
       "      <td>1</td>\n",
       "    </tr>\n",
       "    <tr>\n",
       "      <th>1</th>\n",
       "      <td>38</td>\n",
       "      <td>3</td>\n",
       "      <td>0</td>\n",
       "      <td>2</td>\n",
       "      <td>4</td>\n",
       "      <td>0</td>\n",
       "      <td>4</td>\n",
       "      <td>50</td>\n",
       "      <td>1</td>\n",
       "    </tr>\n",
       "    <tr>\n",
       "      <th>2</th>\n",
       "      <td>28</td>\n",
       "      <td>1</td>\n",
       "      <td>4</td>\n",
       "      <td>2</td>\n",
       "      <td>10</td>\n",
       "      <td>0</td>\n",
       "      <td>4</td>\n",
       "      <td>40</td>\n",
       "      <td>1</td>\n",
       "    </tr>\n",
       "    <tr>\n",
       "      <th>3</th>\n",
       "      <td>44</td>\n",
       "      <td>3</td>\n",
       "      <td>4</td>\n",
       "      <td>2</td>\n",
       "      <td>6</td>\n",
       "      <td>0</td>\n",
       "      <td>2</td>\n",
       "      <td>40</td>\n",
       "      <td>1</td>\n",
       "    </tr>\n",
       "    <tr>\n",
       "      <th>4</th>\n",
       "      <td>18</td>\n",
       "      <td>8</td>\n",
       "      <td>4</td>\n",
       "      <td>0</td>\n",
       "      <td>14</td>\n",
       "      <td>3</td>\n",
       "      <td>4</td>\n",
       "      <td>30</td>\n",
       "      <td>0</td>\n",
       "    </tr>\n",
       "  </tbody>\n",
       "</table>\n",
       "</div>"
      ],
      "text/plain": [
       "   edad  clase de trabajo  educación  estado civil  Ocupación  relación  raza  \\\n",
       "0    25                 3          0             0          6         3     2   \n",
       "1    38                 3          0             2          4         0     4   \n",
       "2    28                 1          4             2         10         0     4   \n",
       "3    44                 3          4             2          6         0     2   \n",
       "4    18                 8          4             0         14         3     4   \n",
       "\n",
       "   horas por semana  Sexo_ Male  \n",
       "0                40           1  \n",
       "1                50           1  \n",
       "2                40           1  \n",
       "3                40           1  \n",
       "4                30           0  "
      ]
     },
     "execution_count": 200,
     "metadata": {},
     "output_type": "execute_result"
    }
   ],
   "source": [
    "df_test.head()"
   ]
  },
  {
   "cell_type": "code",
   "execution_count": 201,
   "metadata": {},
   "outputs": [
    {
     "data": {
      "text/html": [
       "<div>\n",
       "<style scoped>\n",
       "    .dataframe tbody tr th:only-of-type {\n",
       "        vertical-align: middle;\n",
       "    }\n",
       "\n",
       "    .dataframe tbody tr th {\n",
       "        vertical-align: top;\n",
       "    }\n",
       "\n",
       "    .dataframe thead th {\n",
       "        text-align: right;\n",
       "    }\n",
       "</style>\n",
       "<table border=\"1\" class=\"dataframe\">\n",
       "  <thead>\n",
       "    <tr style=\"text-align: right;\">\n",
       "      <th></th>\n",
       "      <th>edad</th>\n",
       "      <th>clase de trabajo</th>\n",
       "      <th>educación</th>\n",
       "      <th>estado civil</th>\n",
       "      <th>Ocupación</th>\n",
       "      <th>relación</th>\n",
       "      <th>raza</th>\n",
       "      <th>horas por semana</th>\n",
       "      <th>Sueldo</th>\n",
       "      <th>Sexo_ Male</th>\n",
       "      <th>Sexo_Desconocido</th>\n",
       "    </tr>\n",
       "  </thead>\n",
       "  <tbody>\n",
       "    <tr>\n",
       "      <th>0</th>\n",
       "      <td>39</td>\n",
       "      <td>6</td>\n",
       "      <td>1</td>\n",
       "      <td>0</td>\n",
       "      <td>0</td>\n",
       "      <td>1</td>\n",
       "      <td>4</td>\n",
       "      <td>40</td>\n",
       "      <td>0</td>\n",
       "      <td>1</td>\n",
       "      <td>0</td>\n",
       "    </tr>\n",
       "    <tr>\n",
       "      <th>1</th>\n",
       "      <td>50</td>\n",
       "      <td>5</td>\n",
       "      <td>1</td>\n",
       "      <td>2</td>\n",
       "      <td>3</td>\n",
       "      <td>0</td>\n",
       "      <td>4</td>\n",
       "      <td>13</td>\n",
       "      <td>0</td>\n",
       "      <td>1</td>\n",
       "      <td>0</td>\n",
       "    </tr>\n",
       "    <tr>\n",
       "      <th>2</th>\n",
       "      <td>38</td>\n",
       "      <td>3</td>\n",
       "      <td>0</td>\n",
       "      <td>3</td>\n",
       "      <td>5</td>\n",
       "      <td>1</td>\n",
       "      <td>4</td>\n",
       "      <td>40</td>\n",
       "      <td>0</td>\n",
       "      <td>1</td>\n",
       "      <td>0</td>\n",
       "    </tr>\n",
       "    <tr>\n",
       "      <th>3</th>\n",
       "      <td>53</td>\n",
       "      <td>3</td>\n",
       "      <td>0</td>\n",
       "      <td>2</td>\n",
       "      <td>5</td>\n",
       "      <td>0</td>\n",
       "      <td>2</td>\n",
       "      <td>40</td>\n",
       "      <td>0</td>\n",
       "      <td>1</td>\n",
       "      <td>0</td>\n",
       "    </tr>\n",
       "    <tr>\n",
       "      <th>4</th>\n",
       "      <td>28</td>\n",
       "      <td>3</td>\n",
       "      <td>1</td>\n",
       "      <td>2</td>\n",
       "      <td>9</td>\n",
       "      <td>5</td>\n",
       "      <td>2</td>\n",
       "      <td>40</td>\n",
       "      <td>0</td>\n",
       "      <td>0</td>\n",
       "      <td>0</td>\n",
       "    </tr>\n",
       "  </tbody>\n",
       "</table>\n",
       "</div>"
      ],
      "text/plain": [
       "   edad  clase de trabajo  educación  estado civil  Ocupación  relación  raza  \\\n",
       "0    39                 6          1             0          0         1     4   \n",
       "1    50                 5          1             2          3         0     4   \n",
       "2    38                 3          0             3          5         1     4   \n",
       "3    53                 3          0             2          5         0     2   \n",
       "4    28                 3          1             2          9         5     2   \n",
       "\n",
       "   horas por semana  Sueldo  Sexo_ Male  Sexo_Desconocido  \n",
       "0                40       0           1                 0  \n",
       "1                13       0           1                 0  \n",
       "2                40       0           1                 0  \n",
       "3                40       0           1                 0  \n",
       "4                40       0           0                 0  "
      ]
     },
     "execution_count": 201,
     "metadata": {},
     "output_type": "execute_result"
    }
   ],
   "source": [
    "df_train.head()"
   ]
  },
  {
   "cell_type": "code",
   "execution_count": 202,
   "metadata": {},
   "outputs": [
    {
     "data": {
      "text/plain": [
       "edad                int64\n",
       "clase de trabajo    int32\n",
       "educación           int32\n",
       "estado civil        int32\n",
       "Ocupación           int32\n",
       "relación            int32\n",
       "raza                int32\n",
       "horas por semana    int64\n",
       "Sueldo              int32\n",
       "Sexo_ Male          uint8\n",
       "Sexo_Desconocido    uint8\n",
       "dtype: object"
      ]
     },
     "execution_count": 202,
     "metadata": {},
     "output_type": "execute_result"
    }
   ],
   "source": [
    "df_train.dtypes"
   ]
  },
  {
   "cell_type": "code",
   "execution_count": 203,
   "metadata": {},
   "outputs": [
    {
     "data": {
      "text/plain": [
       "edad                int64\n",
       "clase de trabajo    int32\n",
       "educación           int32\n",
       "estado civil        int32\n",
       "Ocupación           int32\n",
       "relación            int32\n",
       "raza                int32\n",
       "horas por semana    int64\n",
       "Sexo_ Male          uint8\n",
       "dtype: object"
      ]
     },
     "execution_count": 203,
     "metadata": {},
     "output_type": "execute_result"
    }
   ],
   "source": [
    "df_test.dtypes"
   ]
  },
  {
   "cell_type": "markdown",
   "metadata": {},
   "source": [
    "# Rutina de limpieza"
   ]
  },
  {
   "cell_type": "code",
   "execution_count": 204,
   "metadata": {},
   "outputs": [],
   "source": [
    "def Rutina_limpieza(datos):\n",
    "    le = LabelEncoder()\n",
    "    datos[\"Sueldo\"]=le.fit_transform(datos[\"Sueldo\"])\n",
    "    datos[\"estado civil\"] = np.where(datos[\"estado civil\"]==\" Divorced\", \"Divorciado\", datos[\"estado civil\"])\n",
    "    datos[\"estado civil\"] = np.where(datos[\"estado civil\"]==\" Separated\", \"Divorciado\", datos[\"estado civil\"])\n",
    "    datos[\"estado civil\"] = np.where(datos[\"estado civil\"]==\" Married-civ-spouse\", \"Casado\", datos[\"estado civil\"])\n",
    "    datos[\"estado civil\"] = np.where(datos[\"estado civil\"]==\" Married-spouse-absent\", \"Casado\", datos[\"estado civil\"])\n",
    "    datos[\"estado civil\"] = np.where(datos[\"estado civil\"]==\" Married-AF-spouse\", \"Casado\", datos[\"estado civil\"])\n",
    "    \n",
    "    datos[\"clase de trabajo\"]=np.where(datos[\"clase de trabajo\"]==\" ?\",\"Desconocido\",datos[\"clase de trabajo\"])\n",
    "    datos[\"Ocupación\"] = np.where(datos[\"Ocupación\"]==\" ?\", \"Desconocido\", datos[\"Ocupación\"])\n",
    "    \n",
    "    datos[\"educación\"] = np.where(datos[\"educación\"]==\" Preschool\", \"Primaria\", datos[\"educación\"])\n",
    "    datos[\"educación\"] = np.where(datos[\"educación\"]==\" 1st-4th\", \"Primaria\", datos[\"educación\"])\n",
    "\n",
    "    datos[\"educación\"] = np.where(datos[\"educación\"]==\" 5th-6th\", \"Secundaria\", datos[\"educación\"])\n",
    "    datos[\"educación\"] = np.where(datos[\"educación\"]==\" 7th-8th\", \"Secundaria\", datos[\"educación\"])\n",
    "\n",
    "    datos[\"educación\"] = np.where(datos[\"educación\"]==\" 9th\", \"High School\", datos[\"educación\"])\n",
    "    datos[\"educación\"] = np.where(datos[\"educación\"]==\" 10th\", \"High School\", datos[\"educación\"])\n",
    "    datos[\"educación\"] = np.where(datos[\"educación\"]==\" 11th\", \"High School\", datos[\"educación\"])\n",
    "    datos[\"educación\"] = np.where(datos[\"educación\"]==\" 12th\", \"High School\", datos[\"educación\"])\n",
    "    datos[\"educación\"] = np.where(datos[\"educación\"]==\" HS-grad\", \"High School\", datos[\"educación\"])\n",
    "\n",
    "    datos[\"educación\"] = np.where(datos[\"educación\"]==\" Some-college\",\"Universidad\", datos[\"educación\"])\n",
    "    datos[\"educación\"] = np.where(datos[\"educación\"]==\" Assoc-acdm\", \"Universidad\", datos[\"educación\"])\n",
    "    datos[\"educación\"] = np.where(datos[\"educación\"]==\" Assoc-voc\", \"Universidad\", datos[\"educación\"])\n",
    "\n",
    "    datos[\"educación\"] = np.where(datos[\"educación\"]==\" Bachelors\", \"Posgrado\", datos[\"educación\"])\n",
    "    datos[\"educación\"] = np.where(datos[\"educación\"]==\" Masters\", \"Posgrado\", datos[\"educación\"])\n",
    "    datos[\"educación\"] = np.where(datos[\"educación\"]==\" Prof-school\", \"Posgrado\", datos[\"educación\"])\n",
    "    datos[\"educación\"] = np.where(datos[\"educación\"]==\" Doctorate\", \"Posgrado\", datos[\"educación\"])\n",
    "    \n",
    "    datos[\"Sexo\"].fillna(\"Desconocido\",inplace =True)\n",
    "    dummy_sexo = pd.get_dummies(datos[\"Sexo\"],prefix=\"Sexo\").iloc[:,1:]\n",
    "    datos=pd.concat([datos,dummy_sexo],axis=1)\n",
    "    datos.drop(['Sexo'], axis = 1, inplace = True)\n",
    "    datos.drop(['Id','fnlwgt', 'ganancia de capital', 'pérdida de capital', 'país de origen', 'educación-num'], axis=1, inplace=True)\n",
    "    \n",
    "    datos[\"clase de trabajo\"]=le.fit_transform(datos[\"clase de trabajo\"])\n",
    "    datos[\"educación\"]=le.fit_transform(datos[\"educación\"])\n",
    "    datos[\"estado civil\"]=le.fit_transform(datos[\"estado civil\"])\n",
    "    datos[\"Ocupación\"]=le.fit_transform(datos[\"Ocupación\"])\n",
    "    datos[\"relación\"]=le.fit_transform(datos[\"relación\"])\n",
    "    datos[\"raza\"]=le.fit_transform(datos[\"raza\"])\n",
    "\n",
    "    return datos      "
   ]
  },
  {
   "cell_type": "code",
   "execution_count": 205,
   "metadata": {},
   "outputs": [],
   "source": [
    "def Rutina_limpiezatest(datos):\n",
    "  \n",
    "    datos[\"estado civil\"] = np.where(datos[\"estado civil\"]==\" Divorced\", \"Divorciado\", datos[\"estado civil\"])\n",
    "    datos[\"estado civil\"] = np.where(datos[\"estado civil\"]==\" Separated\", \"Divorciado\", datos[\"estado civil\"])\n",
    "    datos[\"estado civil\"] = np.where(datos[\"estado civil\"]==\" Married-civ-spouse\", \"Casado\", datos[\"estado civil\"])\n",
    "    datos[\"estado civil\"] = np.where(datos[\"estado civil\"]==\" Married-spouse-absent\", \"Casado\", datos[\"estado civil\"])\n",
    "    datos[\"estado civil\"] = np.where(datos[\"estado civil\"]==\" Married-AF-spouse\", \"Casado\", datos[\"estado civil\"])\n",
    "    \n",
    "    datos[\"clase de trabajo\"]=np.where(datos[\"clase de trabajo\"]==\" ?\",\"Desconocido\",datos[\"clase de trabajo\"])\n",
    "    datos[\"Ocupación\"] = np.where(datos[\"Ocupación\"]==\" ?\", \"Desconocido\", datos[\"Ocupación\"])\n",
    "    \n",
    "    datos[\"educación\"] = np.where(datos[\"educación\"]==\" Preschool\", \"Primaria\", datos[\"educación\"])\n",
    "    datos[\"educación\"] = np.where(datos[\"educación\"]==\" 1st-4th\", \"Primaria\", datos[\"educación\"])\n",
    "\n",
    "    datos[\"educación\"] = np.where(datos[\"educación\"]==\" 5th-6th\", \"Secundaria\", datos[\"educación\"])\n",
    "    datos[\"educación\"] = np.where(datos[\"educación\"]==\" 7th-8th\", \"Secundaria\", datos[\"educación\"])\n",
    "\n",
    "    datos[\"educación\"] = np.where(datos[\"educación\"]==\" 9th\", \"High School\", datos[\"educación\"])\n",
    "    datos[\"educación\"] = np.where(datos[\"educación\"]==\" 10th\", \"High School\", datos[\"educación\"])\n",
    "    datos[\"educación\"] = np.where(datos[\"educación\"]==\" 11th\", \"High School\", datos[\"educación\"])\n",
    "    datos[\"educación\"] = np.where(datos[\"educación\"]==\" 12th\", \"High School\", datos[\"educación\"])\n",
    "    datos[\"educación\"] = np.where(datos[\"educación\"]==\" HS-grad\", \"High School\", datos[\"educación\"])\n",
    "\n",
    "    datos[\"educación\"] = np.where(datos[\"educación\"]==\" Some-college\",\"Universidad\", datos[\"educación\"])\n",
    "    datos[\"educación\"] = np.where(datos[\"educación\"]==\" Assoc-acdm\", \"Universidad\", datos[\"educación\"])\n",
    "    datos[\"educación\"] = np.where(datos[\"educación\"]==\" Assoc-voc\", \"Universidad\", datos[\"educación\"])\n",
    "\n",
    "    datos[\"educación\"] = np.where(datos[\"educación\"]==\" Bachelors\", \"Posgrado\", datos[\"educación\"])\n",
    "    datos[\"educación\"] = np.where(datos[\"educación\"]==\" Masters\", \"Posgrado\", datos[\"educación\"])\n",
    "    datos[\"educación\"] = np.where(datos[\"educación\"]==\" Prof-school\", \"Posgrado\", datos[\"educación\"])\n",
    "    datos[\"educación\"] = np.where(datos[\"educación\"]==\" Doctorate\", \"Posgrado\", datos[\"educación\"])\n",
    "    \n",
    "    datos[\"Sexo\"].fillna(\"Desconocido\",inplace =True)\n",
    "    dummy_sexo = pd.get_dummies(datos[\"Sexo\"],prefix=\"Sexo\").iloc[:,1:]\n",
    "    datos=pd.concat([datos,dummy_sexo],axis=1)\n",
    "    datos.drop(['Sexo'], axis = 1, inplace = True)\n",
    "    datos.drop(['Id','fnlwgt', 'ganancia de capital', 'pérdida de capital', 'país de origen', 'educación-num'], axis=1, inplace=True)\n",
    "    \n",
    "    datos[\"clase de trabajo\"]=le.fit_transform(datos[\"clase de trabajo\"])\n",
    "    datos[\"educación\"]=le.fit_transform(datos[\"educación\"])\n",
    "    datos[\"estado civil\"]=le.fit_transform(datos[\"estado civil\"])\n",
    "    datos[\"Ocupación\"]=le.fit_transform(datos[\"Ocupación\"])\n",
    "    datos[\"relación\"]=le.fit_transform(datos[\"relación\"])\n",
    "    datos[\"raza\"]=le.fit_transform(datos[\"raza\"])\n",
    "\n",
    "    return datos"
   ]
  },
  {
   "cell_type": "code",
   "execution_count": 207,
   "metadata": {},
   "outputs": [],
   "source": [
    "df_train=Rutina_limpieza(df_train)"
   ]
  },
  {
   "cell_type": "code",
   "execution_count": 208,
   "metadata": {},
   "outputs": [
    {
     "data": {
      "text/html": [
       "<div>\n",
       "<style scoped>\n",
       "    .dataframe tbody tr th:only-of-type {\n",
       "        vertical-align: middle;\n",
       "    }\n",
       "\n",
       "    .dataframe tbody tr th {\n",
       "        vertical-align: top;\n",
       "    }\n",
       "\n",
       "    .dataframe thead th {\n",
       "        text-align: right;\n",
       "    }\n",
       "</style>\n",
       "<table border=\"1\" class=\"dataframe\">\n",
       "  <thead>\n",
       "    <tr style=\"text-align: right;\">\n",
       "      <th></th>\n",
       "      <th>edad</th>\n",
       "      <th>clase de trabajo</th>\n",
       "      <th>educación</th>\n",
       "      <th>estado civil</th>\n",
       "      <th>Ocupación</th>\n",
       "      <th>relación</th>\n",
       "      <th>raza</th>\n",
       "      <th>horas por semana</th>\n",
       "      <th>Sueldo</th>\n",
       "      <th>Sexo_ Male</th>\n",
       "      <th>Sexo_Desconocido</th>\n",
       "    </tr>\n",
       "  </thead>\n",
       "  <tbody>\n",
       "    <tr>\n",
       "      <th>0</th>\n",
       "      <td>39</td>\n",
       "      <td>6</td>\n",
       "      <td>1</td>\n",
       "      <td>0</td>\n",
       "      <td>0</td>\n",
       "      <td>1</td>\n",
       "      <td>4</td>\n",
       "      <td>40</td>\n",
       "      <td>0</td>\n",
       "      <td>1</td>\n",
       "      <td>0</td>\n",
       "    </tr>\n",
       "    <tr>\n",
       "      <th>1</th>\n",
       "      <td>50</td>\n",
       "      <td>5</td>\n",
       "      <td>1</td>\n",
       "      <td>2</td>\n",
       "      <td>3</td>\n",
       "      <td>0</td>\n",
       "      <td>4</td>\n",
       "      <td>13</td>\n",
       "      <td>0</td>\n",
       "      <td>1</td>\n",
       "      <td>0</td>\n",
       "    </tr>\n",
       "    <tr>\n",
       "      <th>2</th>\n",
       "      <td>38</td>\n",
       "      <td>3</td>\n",
       "      <td>0</td>\n",
       "      <td>3</td>\n",
       "      <td>5</td>\n",
       "      <td>1</td>\n",
       "      <td>4</td>\n",
       "      <td>40</td>\n",
       "      <td>0</td>\n",
       "      <td>1</td>\n",
       "      <td>0</td>\n",
       "    </tr>\n",
       "    <tr>\n",
       "      <th>3</th>\n",
       "      <td>53</td>\n",
       "      <td>3</td>\n",
       "      <td>0</td>\n",
       "      <td>2</td>\n",
       "      <td>5</td>\n",
       "      <td>0</td>\n",
       "      <td>2</td>\n",
       "      <td>40</td>\n",
       "      <td>0</td>\n",
       "      <td>1</td>\n",
       "      <td>0</td>\n",
       "    </tr>\n",
       "    <tr>\n",
       "      <th>4</th>\n",
       "      <td>28</td>\n",
       "      <td>3</td>\n",
       "      <td>1</td>\n",
       "      <td>2</td>\n",
       "      <td>9</td>\n",
       "      <td>5</td>\n",
       "      <td>2</td>\n",
       "      <td>40</td>\n",
       "      <td>0</td>\n",
       "      <td>0</td>\n",
       "      <td>0</td>\n",
       "    </tr>\n",
       "  </tbody>\n",
       "</table>\n",
       "</div>"
      ],
      "text/plain": [
       "   edad  clase de trabajo  educación  estado civil  Ocupación  relación  raza  \\\n",
       "0    39                 6          1             0          0         1     4   \n",
       "1    50                 5          1             2          3         0     4   \n",
       "2    38                 3          0             3          5         1     4   \n",
       "3    53                 3          0             2          5         0     2   \n",
       "4    28                 3          1             2          9         5     2   \n",
       "\n",
       "   horas por semana  Sueldo  Sexo_ Male  Sexo_Desconocido  \n",
       "0                40       0           1                 0  \n",
       "1                13       0           1                 0  \n",
       "2                40       0           1                 0  \n",
       "3                40       0           1                 0  \n",
       "4                40       0           0                 0  "
      ]
     },
     "execution_count": 208,
     "metadata": {},
     "output_type": "execute_result"
    }
   ],
   "source": [
    "df_train.head()"
   ]
  },
  {
   "cell_type": "code",
   "execution_count": 209,
   "metadata": {},
   "outputs": [],
   "source": [
    "df_test=Rutina_limpiezatest(df_test)"
   ]
  },
  {
   "cell_type": "code",
   "execution_count": 210,
   "metadata": {},
   "outputs": [
    {
     "data": {
      "text/html": [
       "<div>\n",
       "<style scoped>\n",
       "    .dataframe tbody tr th:only-of-type {\n",
       "        vertical-align: middle;\n",
       "    }\n",
       "\n",
       "    .dataframe tbody tr th {\n",
       "        vertical-align: top;\n",
       "    }\n",
       "\n",
       "    .dataframe thead th {\n",
       "        text-align: right;\n",
       "    }\n",
       "</style>\n",
       "<table border=\"1\" class=\"dataframe\">\n",
       "  <thead>\n",
       "    <tr style=\"text-align: right;\">\n",
       "      <th></th>\n",
       "      <th>edad</th>\n",
       "      <th>clase de trabajo</th>\n",
       "      <th>educación</th>\n",
       "      <th>estado civil</th>\n",
       "      <th>Ocupación</th>\n",
       "      <th>relación</th>\n",
       "      <th>raza</th>\n",
       "      <th>horas por semana</th>\n",
       "      <th>Sexo_ Male</th>\n",
       "    </tr>\n",
       "  </thead>\n",
       "  <tbody>\n",
       "    <tr>\n",
       "      <th>0</th>\n",
       "      <td>25</td>\n",
       "      <td>3</td>\n",
       "      <td>0</td>\n",
       "      <td>0</td>\n",
       "      <td>6</td>\n",
       "      <td>3</td>\n",
       "      <td>2</td>\n",
       "      <td>40</td>\n",
       "      <td>1</td>\n",
       "    </tr>\n",
       "    <tr>\n",
       "      <th>1</th>\n",
       "      <td>38</td>\n",
       "      <td>3</td>\n",
       "      <td>0</td>\n",
       "      <td>2</td>\n",
       "      <td>4</td>\n",
       "      <td>0</td>\n",
       "      <td>4</td>\n",
       "      <td>50</td>\n",
       "      <td>1</td>\n",
       "    </tr>\n",
       "    <tr>\n",
       "      <th>2</th>\n",
       "      <td>28</td>\n",
       "      <td>1</td>\n",
       "      <td>4</td>\n",
       "      <td>2</td>\n",
       "      <td>10</td>\n",
       "      <td>0</td>\n",
       "      <td>4</td>\n",
       "      <td>40</td>\n",
       "      <td>1</td>\n",
       "    </tr>\n",
       "    <tr>\n",
       "      <th>3</th>\n",
       "      <td>44</td>\n",
       "      <td>3</td>\n",
       "      <td>4</td>\n",
       "      <td>2</td>\n",
       "      <td>6</td>\n",
       "      <td>0</td>\n",
       "      <td>2</td>\n",
       "      <td>40</td>\n",
       "      <td>1</td>\n",
       "    </tr>\n",
       "    <tr>\n",
       "      <th>4</th>\n",
       "      <td>18</td>\n",
       "      <td>8</td>\n",
       "      <td>4</td>\n",
       "      <td>0</td>\n",
       "      <td>14</td>\n",
       "      <td>3</td>\n",
       "      <td>4</td>\n",
       "      <td>30</td>\n",
       "      <td>0</td>\n",
       "    </tr>\n",
       "  </tbody>\n",
       "</table>\n",
       "</div>"
      ],
      "text/plain": [
       "   edad  clase de trabajo  educación  estado civil  Ocupación  relación  raza  \\\n",
       "0    25                 3          0             0          6         3     2   \n",
       "1    38                 3          0             2          4         0     4   \n",
       "2    28                 1          4             2         10         0     4   \n",
       "3    44                 3          4             2          6         0     2   \n",
       "4    18                 8          4             0         14         3     4   \n",
       "\n",
       "   horas por semana  Sexo_ Male  \n",
       "0                40           1  \n",
       "1                50           1  \n",
       "2                40           1  \n",
       "3                40           1  \n",
       "4                30           0  "
      ]
     },
     "execution_count": 210,
     "metadata": {},
     "output_type": "execute_result"
    }
   ],
   "source": [
    "df_test.head()"
   ]
  },
  {
   "cell_type": "markdown",
   "metadata": {},
   "source": [
    "# Aplicación de modelos"
   ]
  },
  {
   "cell_type": "markdown",
   "metadata": {},
   "source": [
    "#### Seleccionamos las columnas para X,Y"
   ]
  },
  {
   "cell_type": "code",
   "execution_count": 213,
   "metadata": {},
   "outputs": [],
   "source": [
    "columnas = [\"edad\",\"clase de trabajo\",\"educación\",\"estado civil\", \"Ocupación\", \"relación\", \"raza\",\n",
    "         \"horas por semana\",\"Sexo_ Male\"]"
   ]
  },
  {
   "cell_type": "code",
   "execution_count": 214,
   "metadata": {},
   "outputs": [],
   "source": [
    "X = df_train[columnas]\n",
    "Y = df_train[\"Sueldo\"]"
   ]
  },
  {
   "cell_type": "markdown",
   "metadata": {},
   "source": [
    "# Dividimos en conjunto Train y Test con Sklearn"
   ]
  },
  {
   "cell_type": "code",
   "execution_count": 216,
   "metadata": {},
   "outputs": [],
   "source": [
    "X_train, X_test, Y_train, Y_test = train_test_split(X, Y, test_size=0.3, random_state=0)"
   ]
  },
  {
   "cell_type": "markdown",
   "metadata": {},
   "source": [
    "# Regresion logistica"
   ]
  },
  {
   "cell_type": "code",
   "execution_count": 217,
   "metadata": {},
   "outputs": [
    {
     "data": {
      "text/plain": [
       "LogisticRegression(C=1.0, class_weight=None, dual=False, fit_intercept=True,\n",
       "                   intercept_scaling=1, l1_ratio=None, max_iter=100,\n",
       "                   multi_class='auto', n_jobs=None, penalty='l2',\n",
       "                   random_state=None, solver='lbfgs', tol=0.0001, verbose=0,\n",
       "                   warm_start=False)"
      ]
     },
     "execution_count": 217,
     "metadata": {},
     "output_type": "execute_result"
    }
   ],
   "source": [
    "reg_log = LogisticRegression()\n",
    "reg_log.fit(X_train,Y_train)"
   ]
  },
  {
   "cell_type": "code",
   "execution_count": 220,
   "metadata": {},
   "outputs": [
    {
     "name": "stdout",
     "output_type": "stream",
     "text": [
      "Presisión de la prediccion 76.34 %\n"
     ]
    }
   ],
   "source": [
    "print(f\"Presisión de la prediccion %.2f\"%(reg_log.score(X_train,Y_train)*100),\"%\")"
   ]
  },
  {
   "cell_type": "code",
   "execution_count": 232,
   "metadata": {},
   "outputs": [],
   "source": [
    "pred = reg_log.predict(X_test)"
   ]
  },
  {
   "cell_type": "code",
   "execution_count": 233,
   "metadata": {},
   "outputs": [
    {
     "name": "stdout",
     "output_type": "stream",
     "text": [
      "              precision    recall  f1-score   support\n",
      "\n",
      "           0       0.78      0.95      0.86      7407\n",
      "           1       0.50      0.16      0.24      2362\n",
      "\n",
      "    accuracy                           0.76      9769\n",
      "   macro avg       0.64      0.55      0.55      9769\n",
      "weighted avg       0.71      0.76      0.71      9769\n",
      "\n"
     ]
    }
   ],
   "source": [
    "print(classification_report(Y_test, pred))"
   ]
  },
  {
   "cell_type": "markdown",
   "metadata": {},
   "source": [
    "# Random forest"
   ]
  },
  {
   "cell_type": "code",
   "execution_count": 222,
   "metadata": {},
   "outputs": [
    {
     "data": {
      "text/plain": [
       "RandomForestClassifier(bootstrap=True, ccp_alpha=0.0, class_weight=None,\n",
       "                       criterion='gini', max_depth=10, max_features='auto',\n",
       "                       max_leaf_nodes=None, max_samples=None,\n",
       "                       min_impurity_decrease=0.0, min_impurity_split=None,\n",
       "                       min_samples_leaf=1, min_samples_split=2,\n",
       "                       min_weight_fraction_leaf=0.0, n_estimators=100,\n",
       "                       n_jobs=None, oob_score=False, random_state=None,\n",
       "                       verbose=0, warm_start=False)"
      ]
     },
     "execution_count": 222,
     "metadata": {},
     "output_type": "execute_result"
    }
   ],
   "source": [
    "rfc= RandomForestClassifier(criterion=\"gini\",max_depth=10,n_estimators=100)\n",
    "rfc.fit(X_train,Y_train)"
   ]
  },
  {
   "cell_type": "code",
   "execution_count": 223,
   "metadata": {},
   "outputs": [
    {
     "name": "stdout",
     "output_type": "stream",
     "text": [
      "Presisión de la prediccion 85.92 %\n"
     ]
    }
   ],
   "source": [
    "print(f\"Presisión de la prediccion %.2f\"%(rfc.score(X_train,Y_train)*100),\"%\")"
   ]
  },
  {
   "cell_type": "code",
   "execution_count": 234,
   "metadata": {},
   "outputs": [],
   "source": [
    "pred = rfc.predict(X_test)"
   ]
  },
  {
   "cell_type": "code",
   "execution_count": 235,
   "metadata": {},
   "outputs": [
    {
     "name": "stdout",
     "output_type": "stream",
     "text": [
      "              precision    recall  f1-score   support\n",
      "\n",
      "           0       0.86      0.93      0.89      7407\n",
      "           1       0.70      0.54      0.61      2362\n",
      "\n",
      "    accuracy                           0.83      9769\n",
      "   macro avg       0.78      0.73      0.75      9769\n",
      "weighted avg       0.82      0.83      0.83      9769\n",
      "\n"
     ]
    }
   ],
   "source": [
    "print(classification_report(Y_test, pred))"
   ]
  },
  {
   "cell_type": "markdown",
   "metadata": {},
   "source": [
    "# Kneighbors"
   ]
  },
  {
   "cell_type": "code",
   "execution_count": 224,
   "metadata": {},
   "outputs": [
    {
     "data": {
      "text/plain": [
       "KNeighborsClassifier(algorithm='auto', leaf_size=30, metric='minkowski',\n",
       "                     metric_params=None, n_jobs=None, n_neighbors=5, p=2,\n",
       "                     weights='uniform')"
      ]
     },
     "execution_count": 224,
     "metadata": {},
     "output_type": "execute_result"
    }
   ],
   "source": [
    "vecino = KNeighborsClassifier()\n",
    "vecino.fit(X_train, Y_train) "
   ]
  },
  {
   "cell_type": "code",
   "execution_count": 226,
   "metadata": {},
   "outputs": [
    {
     "name": "stdout",
     "output_type": "stream",
     "text": [
      "Presisión de la prediccion 85.12 %\n"
     ]
    }
   ],
   "source": [
    "print(f\"Presisión de la prediccion %.2f\"%(vecino.score(X_train,Y_train)*100),\"%\")"
   ]
  },
  {
   "cell_type": "code",
   "execution_count": 236,
   "metadata": {},
   "outputs": [],
   "source": [
    "pred=vecino.predict(X_test)"
   ]
  },
  {
   "cell_type": "code",
   "execution_count": 237,
   "metadata": {},
   "outputs": [
    {
     "name": "stdout",
     "output_type": "stream",
     "text": [
      "              precision    recall  f1-score   support\n",
      "\n",
      "           0       0.85      0.86      0.85      7407\n",
      "           1       0.54      0.50      0.52      2362\n",
      "\n",
      "    accuracy                           0.78      9769\n",
      "   macro avg       0.69      0.68      0.69      9769\n",
      "weighted avg       0.77      0.78      0.77      9769\n",
      "\n"
     ]
    }
   ],
   "source": [
    "print(classification_report(Y_test, pred))"
   ]
  },
  {
   "cell_type": "markdown",
   "metadata": {},
   "source": [
    "# Decision Tree"
   ]
  },
  {
   "cell_type": "code",
   "execution_count": 227,
   "metadata": {},
   "outputs": [
    {
     "data": {
      "text/plain": [
       "DecisionTreeClassifier(ccp_alpha=0.0, class_weight=None, criterion='gini',\n",
       "                       max_depth=None, max_features=None, max_leaf_nodes=None,\n",
       "                       min_impurity_decrease=0.0, min_impurity_split=None,\n",
       "                       min_samples_leaf=1, min_samples_split=2,\n",
       "                       min_weight_fraction_leaf=0.0, presort='deprecated',\n",
       "                       random_state=None, splitter='best')"
      ]
     },
     "execution_count": 227,
     "metadata": {},
     "output_type": "execute_result"
    }
   ],
   "source": [
    "dtree = DecisionTreeClassifier(criterion=\"gini\") \n",
    "dtree.fit(X_train,Y_train)"
   ]
  },
  {
   "cell_type": "code",
   "execution_count": 228,
   "metadata": {},
   "outputs": [
    {
     "name": "stdout",
     "output_type": "stream",
     "text": [
      "Presisión de la prediccion 95.99 %\n"
     ]
    }
   ],
   "source": [
    "print(f\"Presisión de la prediccion %.2f\"%(dtree.score(X_train,Y_train)*100),\"%\")"
   ]
  },
  {
   "cell_type": "code",
   "execution_count": 238,
   "metadata": {},
   "outputs": [],
   "source": [
    "pred=dtree.predict(X_test)"
   ]
  },
  {
   "cell_type": "code",
   "execution_count": 239,
   "metadata": {},
   "outputs": [
    {
     "name": "stdout",
     "output_type": "stream",
     "text": [
      "              precision    recall  f1-score   support\n",
      "\n",
      "           0       0.85      0.86      0.86      7407\n",
      "           1       0.55      0.52      0.53      2362\n",
      "\n",
      "    accuracy                           0.78      9769\n",
      "   macro avg       0.70      0.69      0.69      9769\n",
      "weighted avg       0.78      0.78      0.78      9769\n",
      "\n"
     ]
    }
   ],
   "source": [
    "print(classification_report(Y_test, pred))"
   ]
  },
  {
   "cell_type": "markdown",
   "metadata": {},
   "source": [
    "# Normalizamos los datos"
   ]
  },
  {
   "cell_type": "code",
   "execution_count": 230,
   "metadata": {},
   "outputs": [],
   "source": [
    "norm = MinMaxScaler().fit(X_train)\n",
    "X_train_norm = norm.transform(X_train)\n",
    "X_test_norm = norm.transform(X_test)"
   ]
  },
  {
   "cell_type": "markdown",
   "metadata": {},
   "source": [
    "# Aplicamos los modelos con los datos normalizados"
   ]
  },
  {
   "cell_type": "markdown",
   "metadata": {},
   "source": [
    "## Regresion Logistica norm"
   ]
  },
  {
   "cell_type": "code",
   "execution_count": 240,
   "metadata": {},
   "outputs": [
    {
     "data": {
      "text/plain": [
       "LogisticRegression(C=1.0, class_weight=None, dual=False, fit_intercept=True,\n",
       "                   intercept_scaling=1, l1_ratio=None, max_iter=100,\n",
       "                   multi_class='auto', n_jobs=None, penalty='l2',\n",
       "                   random_state=None, solver='lbfgs', tol=0.0001, verbose=0,\n",
       "                   warm_start=False)"
      ]
     },
     "execution_count": 240,
     "metadata": {},
     "output_type": "execute_result"
    }
   ],
   "source": [
    "reg_log = LogisticRegression()\n",
    "reg_log.fit(X_train_norm,Y_train)"
   ]
  },
  {
   "cell_type": "code",
   "execution_count": 241,
   "metadata": {},
   "outputs": [
    {
     "name": "stdout",
     "output_type": "stream",
     "text": [
      "Presisión de la prediccion 76.36 %\n"
     ]
    }
   ],
   "source": [
    "print(f\"Presisión de la prediccion %.2f\"%(reg_log.score(X_train_norm,Y_train)*100),\"%\")"
   ]
  },
  {
   "cell_type": "code",
   "execution_count": 242,
   "metadata": {},
   "outputs": [],
   "source": [
    "pred = reg_log.predict(X_test)"
   ]
  },
  {
   "cell_type": "code",
   "execution_count": 243,
   "metadata": {},
   "outputs": [
    {
     "name": "stdout",
     "output_type": "stream",
     "text": [
      "              precision    recall  f1-score   support\n",
      "\n",
      "           0       0.00      0.00      0.00      7407\n",
      "           1       0.24      1.00      0.39      2362\n",
      "\n",
      "    accuracy                           0.24      9769\n",
      "   macro avg       0.12      0.50      0.19      9769\n",
      "weighted avg       0.06      0.24      0.09      9769\n",
      "\n"
     ]
    }
   ],
   "source": [
    "print(classification_report(Y_test, pred))"
   ]
  },
  {
   "cell_type": "markdown",
   "metadata": {},
   "source": [
    "## Random Forest normalizado"
   ]
  },
  {
   "cell_type": "code",
   "execution_count": 244,
   "metadata": {},
   "outputs": [
    {
     "data": {
      "text/plain": [
       "RandomForestClassifier(bootstrap=True, ccp_alpha=0.0, class_weight=None,\n",
       "                       criterion='gini', max_depth=10, max_features='auto',\n",
       "                       max_leaf_nodes=None, max_samples=None,\n",
       "                       min_impurity_decrease=0.0, min_impurity_split=None,\n",
       "                       min_samples_leaf=1, min_samples_split=2,\n",
       "                       min_weight_fraction_leaf=0.0, n_estimators=100,\n",
       "                       n_jobs=None, oob_score=False, random_state=None,\n",
       "                       verbose=0, warm_start=False)"
      ]
     },
     "execution_count": 244,
     "metadata": {},
     "output_type": "execute_result"
    }
   ],
   "source": [
    "rfc= RandomForestClassifier(criterion=\"gini\",max_depth=10,n_estimators=100)\n",
    "rfc.fit(X_train_norm,Y_train)"
   ]
  },
  {
   "cell_type": "code",
   "execution_count": 245,
   "metadata": {},
   "outputs": [
    {
     "name": "stdout",
     "output_type": "stream",
     "text": [
      "Presisión de la prediccion 85.79 %\n"
     ]
    }
   ],
   "source": [
    "print(f\"Presisión de la prediccion %.2f\"%(rfc.score(X_train_norm,Y_train)*100),\"%\")"
   ]
  },
  {
   "cell_type": "code",
   "execution_count": 246,
   "metadata": {},
   "outputs": [],
   "source": [
    "pred = rfc.predict(X_test)"
   ]
  },
  {
   "cell_type": "code",
   "execution_count": 247,
   "metadata": {},
   "outputs": [
    {
     "name": "stdout",
     "output_type": "stream",
     "text": [
      "              precision    recall  f1-score   support\n",
      "\n",
      "           0       0.76      1.00      0.86      7407\n",
      "           1       0.44      0.00      0.01      2362\n",
      "\n",
      "    accuracy                           0.76      9769\n",
      "   macro avg       0.60      0.50      0.43      9769\n",
      "weighted avg       0.68      0.76      0.66      9769\n",
      "\n"
     ]
    }
   ],
   "source": [
    "print(classification_report(Y_test, pred))"
   ]
  },
  {
   "cell_type": "markdown",
   "metadata": {},
   "source": [
    "## kneigbors Normalizado"
   ]
  },
  {
   "cell_type": "code",
   "execution_count": 248,
   "metadata": {},
   "outputs": [
    {
     "data": {
      "text/plain": [
       "KNeighborsClassifier(algorithm='auto', leaf_size=30, metric='minkowski',\n",
       "                     metric_params=None, n_jobs=None, n_neighbors=5, p=2,\n",
       "                     weights='uniform')"
      ]
     },
     "execution_count": 248,
     "metadata": {},
     "output_type": "execute_result"
    }
   ],
   "source": [
    "vecino = KNeighborsClassifier()\n",
    "vecino.fit(X_train_norm, Y_train) "
   ]
  },
  {
   "cell_type": "code",
   "execution_count": 249,
   "metadata": {},
   "outputs": [
    {
     "name": "stdout",
     "output_type": "stream",
     "text": [
      "Presisión de la prediccion 86.80 %\n"
     ]
    }
   ],
   "source": [
    "print(f\"Presisión de la prediccion %.2f\"%(vecino.score(X_train_norm,Y_train)*100),\"%\")"
   ]
  },
  {
   "cell_type": "code",
   "execution_count": 250,
   "metadata": {},
   "outputs": [],
   "source": [
    "pred = vecino.predict(X_test)"
   ]
  },
  {
   "cell_type": "code",
   "execution_count": 251,
   "metadata": {},
   "outputs": [
    {
     "name": "stdout",
     "output_type": "stream",
     "text": [
      "              precision    recall  f1-score   support\n",
      "\n",
      "           0       0.75      0.95      0.84      7407\n",
      "           1       0.17      0.03      0.05      2362\n",
      "\n",
      "    accuracy                           0.73      9769\n",
      "   macro avg       0.46      0.49      0.45      9769\n",
      "weighted avg       0.61      0.73      0.65      9769\n",
      "\n"
     ]
    }
   ],
   "source": [
    "print(classification_report(Y_test, pred))"
   ]
  },
  {
   "cell_type": "markdown",
   "metadata": {},
   "source": [
    "## Decision Tree Normalizado"
   ]
  },
  {
   "cell_type": "code",
   "execution_count": 252,
   "metadata": {},
   "outputs": [
    {
     "data": {
      "text/plain": [
       "DecisionTreeClassifier(ccp_alpha=0.0, class_weight=None, criterion='gini',\n",
       "                       max_depth=None, max_features=None, max_leaf_nodes=None,\n",
       "                       min_impurity_decrease=0.0, min_impurity_split=None,\n",
       "                       min_samples_leaf=1, min_samples_split=2,\n",
       "                       min_weight_fraction_leaf=0.0, presort='deprecated',\n",
       "                       random_state=None, splitter='best')"
      ]
     },
     "execution_count": 252,
     "metadata": {},
     "output_type": "execute_result"
    }
   ],
   "source": [
    "dtree = DecisionTreeClassifier(criterion=\"gini\") \n",
    "dtree.fit(X_train_norm,Y_train)"
   ]
  },
  {
   "cell_type": "code",
   "execution_count": 253,
   "metadata": {},
   "outputs": [
    {
     "name": "stdout",
     "output_type": "stream",
     "text": [
      "Presisión de la prediccion 95.99 %\n"
     ]
    }
   ],
   "source": [
    "print(f\"Presisión de la prediccion %.2f\"%(dtree.score(X_train_norm,Y_train)*100),\"%\")"
   ]
  },
  {
   "cell_type": "code",
   "execution_count": 254,
   "metadata": {},
   "outputs": [],
   "source": [
    "pred = dtree.predict(X_test)"
   ]
  },
  {
   "cell_type": "code",
   "execution_count": 255,
   "metadata": {},
   "outputs": [
    {
     "name": "stdout",
     "output_type": "stream",
     "text": [
      "              precision    recall  f1-score   support\n",
      "\n",
      "           0       0.76      0.99      0.86      7407\n",
      "           1       0.50      0.02      0.05      2362\n",
      "\n",
      "    accuracy                           0.76      9769\n",
      "   macro avg       0.63      0.51      0.45      9769\n",
      "weighted avg       0.70      0.76      0.66      9769\n",
      "\n"
     ]
    }
   ],
   "source": [
    "print(classification_report(Y_test, pred))"
   ]
  },
  {
   "cell_type": "markdown",
   "metadata": {},
   "source": [
    "## Estandarizamos los datos"
   ]
  },
  {
   "cell_type": "code",
   "execution_count": 257,
   "metadata": {},
   "outputs": [],
   "source": [
    "scale = StandardScaler().fit(X_train)\n",
    "X_train_stand = scale.transform(X_train)\n",
    "X_test_stand = scale.transform(X_test)"
   ]
  },
  {
   "cell_type": "markdown",
   "metadata": {},
   "source": [
    "## Ejecutamos modelos con datos estandarizados"
   ]
  },
  {
   "cell_type": "markdown",
   "metadata": {},
   "source": [
    "## Regresion logistica estandarizada"
   ]
  },
  {
   "cell_type": "code",
   "execution_count": 258,
   "metadata": {},
   "outputs": [
    {
     "data": {
      "text/plain": [
       "LogisticRegression(C=1.0, class_weight=None, dual=False, fit_intercept=True,\n",
       "                   intercept_scaling=1, l1_ratio=None, max_iter=100,\n",
       "                   multi_class='auto', n_jobs=None, penalty='l2',\n",
       "                   random_state=None, solver='lbfgs', tol=0.0001, verbose=0,\n",
       "                   warm_start=False)"
      ]
     },
     "execution_count": 258,
     "metadata": {},
     "output_type": "execute_result"
    }
   ],
   "source": [
    "reg_log = LogisticRegression()\n",
    "reg_log.fit(X_train_stand,Y_train)"
   ]
  },
  {
   "cell_type": "code",
   "execution_count": 259,
   "metadata": {},
   "outputs": [
    {
     "name": "stdout",
     "output_type": "stream",
     "text": [
      "Presisión de la prediccion 76.36 %\n"
     ]
    }
   ],
   "source": [
    "print(f\"Presisión de la prediccion %.2f\"%(reg_log.score(X_train_stand,Y_train)*100),\"%\")"
   ]
  },
  {
   "cell_type": "code",
   "execution_count": 262,
   "metadata": {},
   "outputs": [],
   "source": [
    "pred = reg_log.predict(X_test)"
   ]
  },
  {
   "cell_type": "code",
   "execution_count": 263,
   "metadata": {},
   "outputs": [
    {
     "name": "stdout",
     "output_type": "stream",
     "text": [
      "              precision    recall  f1-score   support\n",
      "\n",
      "           0       0.00      0.00      0.00      7407\n",
      "           1       0.24      1.00      0.39      2362\n",
      "\n",
      "    accuracy                           0.24      9769\n",
      "   macro avg       0.12      0.50      0.19      9769\n",
      "weighted avg       0.06      0.24      0.09      9769\n",
      "\n"
     ]
    }
   ],
   "source": [
    "print(classification_report(Y_test, pred))"
   ]
  },
  {
   "cell_type": "markdown",
   "metadata": {},
   "source": [
    "## Random Forest Estandarizado"
   ]
  },
  {
   "cell_type": "code",
   "execution_count": 264,
   "metadata": {},
   "outputs": [
    {
     "data": {
      "text/plain": [
       "RandomForestClassifier(bootstrap=True, ccp_alpha=0.0, class_weight=None,\n",
       "                       criterion='gini', max_depth=10, max_features='auto',\n",
       "                       max_leaf_nodes=None, max_samples=None,\n",
       "                       min_impurity_decrease=0.0, min_impurity_split=None,\n",
       "                       min_samples_leaf=1, min_samples_split=2,\n",
       "                       min_weight_fraction_leaf=0.0, n_estimators=100,\n",
       "                       n_jobs=None, oob_score=False, random_state=None,\n",
       "                       verbose=0, warm_start=False)"
      ]
     },
     "execution_count": 264,
     "metadata": {},
     "output_type": "execute_result"
    }
   ],
   "source": [
    "rfc= RandomForestClassifier(criterion=\"gini\",max_depth=10,n_estimators=100)\n",
    "rfc.fit(X_train_stand,Y_train)"
   ]
  },
  {
   "cell_type": "code",
   "execution_count": 265,
   "metadata": {},
   "outputs": [
    {
     "name": "stdout",
     "output_type": "stream",
     "text": [
      "Presisión de la prediccion 85.80 %\n"
     ]
    }
   ],
   "source": [
    "print(f\"Presisión de la prediccion %.2f\"%(rfc.score(X_train_stand,Y_train)*100),\"%\")"
   ]
  },
  {
   "cell_type": "code",
   "execution_count": 266,
   "metadata": {},
   "outputs": [],
   "source": [
    "pred = rfc.predict(X_test)"
   ]
  },
  {
   "cell_type": "code",
   "execution_count": 267,
   "metadata": {},
   "outputs": [
    {
     "name": "stdout",
     "output_type": "stream",
     "text": [
      "              precision    recall  f1-score   support\n",
      "\n",
      "           0       0.76      1.00      0.86      7407\n",
      "           1       0.00      0.00      0.00      2362\n",
      "\n",
      "    accuracy                           0.76      9769\n",
      "   macro avg       0.38      0.50      0.43      9769\n",
      "weighted avg       0.57      0.76      0.65      9769\n",
      "\n"
     ]
    }
   ],
   "source": [
    "print(classification_report(Y_test, pred))"
   ]
  },
  {
   "cell_type": "markdown",
   "metadata": {},
   "source": [
    "## kneigbors estandarizado"
   ]
  },
  {
   "cell_type": "code",
   "execution_count": 268,
   "metadata": {},
   "outputs": [
    {
     "data": {
      "text/plain": [
       "KNeighborsClassifier(algorithm='auto', leaf_size=30, metric='minkowski',\n",
       "                     metric_params=None, n_jobs=None, n_neighbors=5, p=2,\n",
       "                     weights='uniform')"
      ]
     },
     "execution_count": 268,
     "metadata": {},
     "output_type": "execute_result"
    }
   ],
   "source": [
    "vecino = KNeighborsClassifier()\n",
    "vecino.fit(X_train_stand, Y_train) "
   ]
  },
  {
   "cell_type": "code",
   "execution_count": 269,
   "metadata": {},
   "outputs": [
    {
     "name": "stdout",
     "output_type": "stream",
     "text": [
      "Presisión de la prediccion 86.47 %\n"
     ]
    }
   ],
   "source": [
    "print(f\"Presisión de la prediccion %.2f\"%(vecino.score(X_train_stand,Y_train)*100),\"%\")"
   ]
  },
  {
   "cell_type": "code",
   "execution_count": 270,
   "metadata": {},
   "outputs": [],
   "source": [
    "pred = rfc.predict(X_test)"
   ]
  },
  {
   "cell_type": "code",
   "execution_count": 271,
   "metadata": {},
   "outputs": [
    {
     "name": "stdout",
     "output_type": "stream",
     "text": [
      "              precision    recall  f1-score   support\n",
      "\n",
      "           0       0.76      1.00      0.86      7407\n",
      "           1       0.00      0.00      0.00      2362\n",
      "\n",
      "    accuracy                           0.76      9769\n",
      "   macro avg       0.38      0.50      0.43      9769\n",
      "weighted avg       0.57      0.76      0.65      9769\n",
      "\n"
     ]
    }
   ],
   "source": [
    "print(classification_report(Y_test, pred))"
   ]
  },
  {
   "cell_type": "markdown",
   "metadata": {},
   "source": [
    "## Decision Tree estandarizado"
   ]
  },
  {
   "cell_type": "code",
   "execution_count": 272,
   "metadata": {},
   "outputs": [
    {
     "data": {
      "text/plain": [
       "DecisionTreeClassifier(ccp_alpha=0.0, class_weight=None, criterion='gini',\n",
       "                       max_depth=None, max_features=None, max_leaf_nodes=None,\n",
       "                       min_impurity_decrease=0.0, min_impurity_split=None,\n",
       "                       min_samples_leaf=1, min_samples_split=2,\n",
       "                       min_weight_fraction_leaf=0.0, presort='deprecated',\n",
       "                       random_state=None, splitter='best')"
      ]
     },
     "execution_count": 272,
     "metadata": {},
     "output_type": "execute_result"
    }
   ],
   "source": [
    "dtree = DecisionTreeClassifier(criterion=\"gini\") \n",
    "dtree.fit(X_train_stand,Y_train)"
   ]
  },
  {
   "cell_type": "code",
   "execution_count": 273,
   "metadata": {},
   "outputs": [
    {
     "name": "stdout",
     "output_type": "stream",
     "text": [
      "Presisión de la prediccion 95.99 %\n"
     ]
    }
   ],
   "source": [
    "print(f\"Presisión de la prediccion %.2f\"%(dtree.score(X_train_stand,Y_train)*100),\"%\")"
   ]
  },
  {
   "cell_type": "code",
   "execution_count": 274,
   "metadata": {},
   "outputs": [],
   "source": [
    "pred = dtree.predict(X_test)"
   ]
  },
  {
   "cell_type": "code",
   "execution_count": 275,
   "metadata": {},
   "outputs": [
    {
     "name": "stdout",
     "output_type": "stream",
     "text": [
      "              precision    recall  f1-score   support\n",
      "\n",
      "           0       0.76      1.00      0.86      7407\n",
      "           1       0.00      0.00      0.00      2362\n",
      "\n",
      "    accuracy                           0.76      9769\n",
      "   macro avg       0.38      0.50      0.43      9769\n",
      "weighted avg       0.57      0.76      0.65      9769\n",
      "\n"
     ]
    }
   ],
   "source": [
    "print(classification_report(Y_test, pred))"
   ]
  },
  {
   "cell_type": "markdown",
   "metadata": {},
   "source": [
    "# Modelo a elegir"
   ]
  },
  {
   "cell_type": "markdown",
   "metadata": {},
   "source": [
    "* bajo cada modelo ejecutado podemos ver las metricas podemos decidir que el modelo que mejor nos sirve para este conjunto de datos es Decision Tree con un 95.99%"
   ]
  },
  {
   "cell_type": "code",
   "execution_count": 277,
   "metadata": {},
   "outputs": [
    {
     "data": {
      "text/plain": [
       "DecisionTreeClassifier(ccp_alpha=0.0, class_weight=None, criterion='gini',\n",
       "                       max_depth=None, max_features=None, max_leaf_nodes=None,\n",
       "                       min_impurity_decrease=0.0, min_impurity_split=None,\n",
       "                       min_samples_leaf=1, min_samples_split=2,\n",
       "                       min_weight_fraction_leaf=0.0, presort='deprecated',\n",
       "                       random_state=None, splitter='best')"
      ]
     },
     "execution_count": 277,
     "metadata": {},
     "output_type": "execute_result"
    }
   ],
   "source": [
    "dtree = DecisionTreeClassifier(criterion=\"gini\") \n",
    "dtree.fit(X_train_norm,Y_train)"
   ]
  },
  {
   "cell_type": "code",
   "execution_count": 278,
   "metadata": {},
   "outputs": [
    {
     "name": "stdout",
     "output_type": "stream",
     "text": [
      "Presisión de la prediccion 95.99 %\n"
     ]
    }
   ],
   "source": [
    "print(f\"Presisión de la prediccion %.2f\"%(dtree.score(X_train_norm,Y_train)*100),\"%\")"
   ]
  },
  {
   "cell_type": "markdown",
   "metadata": {},
   "source": [
    "# Aplicamos el modelo a los datos "
   ]
  },
  {
   "cell_type": "code",
   "execution_count": 281,
   "metadata": {},
   "outputs": [],
   "source": [
    "pred_tree= dtree.predict(df_test)"
   ]
  },
  {
   "cell_type": "code",
   "execution_count": 282,
   "metadata": {},
   "outputs": [
    {
     "data": {
      "text/plain": [
       "array([0, 0, 0, ..., 0, 0, 0])"
      ]
     },
     "execution_count": 282,
     "metadata": {},
     "output_type": "execute_result"
    }
   ],
   "source": [
    "pred_tree"
   ]
  },
  {
   "cell_type": "code",
   "execution_count": 283,
   "metadata": {},
   "outputs": [],
   "source": [
    "pred_tree_df = pd.DataFrame(pred_tree)"
   ]
  },
  {
   "cell_type": "code",
   "execution_count": 284,
   "metadata": {},
   "outputs": [
    {
     "data": {
      "text/html": [
       "<div>\n",
       "<style scoped>\n",
       "    .dataframe tbody tr th:only-of-type {\n",
       "        vertical-align: middle;\n",
       "    }\n",
       "\n",
       "    .dataframe tbody tr th {\n",
       "        vertical-align: top;\n",
       "    }\n",
       "\n",
       "    .dataframe thead th {\n",
       "        text-align: right;\n",
       "    }\n",
       "</style>\n",
       "<table border=\"1\" class=\"dataframe\">\n",
       "  <thead>\n",
       "    <tr style=\"text-align: right;\">\n",
       "      <th></th>\n",
       "      <th>0</th>\n",
       "    </tr>\n",
       "  </thead>\n",
       "  <tbody>\n",
       "    <tr>\n",
       "      <th>0</th>\n",
       "      <td>0</td>\n",
       "    </tr>\n",
       "    <tr>\n",
       "      <th>1</th>\n",
       "      <td>0</td>\n",
       "    </tr>\n",
       "    <tr>\n",
       "      <th>2</th>\n",
       "      <td>0</td>\n",
       "    </tr>\n",
       "    <tr>\n",
       "      <th>3</th>\n",
       "      <td>0</td>\n",
       "    </tr>\n",
       "    <tr>\n",
       "      <th>4</th>\n",
       "      <td>0</td>\n",
       "    </tr>\n",
       "  </tbody>\n",
       "</table>\n",
       "</div>"
      ],
      "text/plain": [
       "   0\n",
       "0  0\n",
       "1  0\n",
       "2  0\n",
       "3  0\n",
       "4  0"
      ]
     },
     "execution_count": 284,
     "metadata": {},
     "output_type": "execute_result"
    }
   ],
   "source": [
    "pred_tree_df.head()"
   ]
  },
  {
   "cell_type": "markdown",
   "metadata": {},
   "source": [
    "# Convertimos las predicciones en un DataFrame para mejor visualización"
   ]
  },
  {
   "cell_type": "code",
   "execution_count": null,
   "metadata": {},
   "outputs": [],
   "source": []
  }
 ],
 "metadata": {
  "kernelspec": {
   "display_name": "Python 3",
   "language": "python",
   "name": "python3"
  },
  "language_info": {
   "codemirror_mode": {
    "name": "ipython",
    "version": 3
   },
   "file_extension": ".py",
   "mimetype": "text/x-python",
   "name": "python",
   "nbconvert_exporter": "python",
   "pygments_lexer": "ipython3",
   "version": "3.7.6"
  }
 },
 "nbformat": 4,
 "nbformat_minor": 2
}
